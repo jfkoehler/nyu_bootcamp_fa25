{
 "cells": [
  {
   "cell_type": "markdown",
   "metadata": {},
   "source": [
    "# Python Fundamentals 1 \n",
    "\n",
    "  \n",
    "####  Outline\n",
    "\n",
    "Time to start programming! We work our way through some of the essentials of Python's core language. We will do this within a Jupyter Notebook and along the way, become familiar Markdown as well as other properties of the notebook environment. \n",
    "\n",
    "**OBJECTIVES**\n",
    "\n",
    "- Use variables to represent different Python data types\n",
    "- Identify and use `int`, `float`, `bool`, and `str` data types in Python\n",
    "- Identify, differentiate between, and use `list`, `dict`, `set`, and `tuple` collections in Python\n",
    "- Iterate over collections using `for` loops\n",
    "- Use conditional statements to control the flow of programs\n",
    "\n",
    "$$\\sum_{i = 1}^n i$$"
   ]
  },
  {
   "cell_type": "markdown",
   "metadata": {},
   "source": [
    "### Markdown Essentials"
   ]
  },
  {
   "cell_type": "markdown",
   "metadata": {},
   "source": [
    "Markdown is a simplified version of html (\"hypertext markup language\"), the language used to construct basic websites. It has a zen-like simplicity and beauty."
   ]
  },
  {
   "cell_type": "markdown",
   "metadata": {},
   "source": [
    "* **Headings**.  Large bold headings are marked by hashes (`#`).  One hash for first level (very large), two for second level (a little smaller), three for third level (smaller still), four for fourth (the smallest).  Try these in a Markdown cell to see how they look:\n",
    "\n",
    "   ```\n",
    "   # Data Bootcamp sandbox\n",
    "   ## Data Bootcamp sandbox\n",
    "   ### Data Bootcamp sandbox\n",
    "   ```\n",
    "\n",
    "  Be sure to run the cell when you're done (`shift enter`)."
   ]
  },
  {
   "cell_type": "markdown",
   "metadata": {},
   "source": [
    "* **Bold and italics**.  If we put a word or phrase between double asterisks, it's displayed in bold.  Thus `**bold**` displays as **bold**.  If we use single asterisks, we get italics:  `*italics*` displays as *italics*."
   ]
  },
  {
   "cell_type": "markdown",
   "metadata": {},
   "source": [
    "* **Bullet lists**.  If we want a list of items marked by bullets, we start with a blank line and mark each item with an asterisk on a new line:\n",
    "\n",
    "  ```markdown\n",
    "  * something\n",
    "  * something else\n",
    "  ```"
   ]
  },
  {
   "cell_type": "markdown",
   "metadata": {},
   "source": [
    "* **Links**.   We construct a link with the text in square brackets and the url in parentheses immediately afterwards.  Try this one:\n",
    "  ```\n",
    "  [Data Bootcamp course](http://nyu.data-bootcamp.com/)\n",
    "  ```"
   ]
  },
  {
   "cell_type": "markdown",
   "metadata": {},
   "source": [
    "We can find more information about Markdown under Help.  Or use your [Google fu](https://www.urbandictionary.com/define.php?term=google-fu)."
   ]
  },
  {
   "cell_type": "markdown",
   "metadata": {},
   "source": [
    "**Exercise.** Ask questions if you find any of these steps mysterious:\n",
    "\n",
    "* Close Jupyter.\n",
    "\n",
    "* Start Jupyter.\n",
    "\n",
    "* In Jupyter, open an new Ipython notebook within your Data_Bootcamp directory/folder, point to the code cell, the name of the notebook, and the help button.\n",
    "\n",
    "* Save the file bootcamp_class_pyfun1 in your This file will serve as your notes for this class.\n",
    "* Create a description cell in Markdown at the top of your notebook. It should include your name and a description of what you're doing in the notebook. For example: \"Mike Waugh's first notebook for Python fundamentals 1\" and a date."
   ]
  },
  {
   "cell_type": "markdown",
   "metadata": {},
   "source": [
    "---\n",
    "## Simple Calculations and Assignment\n",
    "\n",
    "Literally the \"bread and butter\" of scientific computation...let's get started:\n",
    "\n"
   ]
  },
  {
   "cell_type": "code",
   "execution_count": 1,
   "metadata": {},
   "outputs": [
    {
     "name": "stdout",
     "output_type": "stream",
     "text": [
      "6\n"
     ]
    }
   ],
   "source": [
    "test = 2*3 # simple multiplication\n",
    "print(test)"
   ]
  },
  {
   "cell_type": "code",
   "execution_count": 2,
   "metadata": {},
   "outputs": [
    {
     "name": "stdout",
     "output_type": "stream",
     "text": [
      "0.6666666666666666\n"
     ]
    }
   ],
   "source": [
    "# What about division...\n",
    "test = 2/3 \n",
    "print(test)"
   ]
  },
  {
   "cell_type": "code",
   "execution_count": 3,
   "metadata": {},
   "outputs": [
    {
     "name": "stdout",
     "output_type": "stream",
     "text": [
      "2\n"
     ]
    }
   ],
   "source": [
    "# What about modulus...\n",
    "test = 2%3\n",
    "print(test)"
   ]
  },
  {
   "cell_type": "code",
   "execution_count": 4,
   "metadata": {},
   "outputs": [
    {
     "data": {
      "text/plain": [
       "2"
      ]
     },
     "execution_count": 4,
     "metadata": {},
     "output_type": "execute_result"
    }
   ],
   "source": [
    "12//5"
   ]
  },
  {
   "cell_type": "markdown",
   "metadata": {},
   "source": [
    "**Side note** Note how in the cell I have comments that are not interperted by python. To create comments simply type ``#`` and then what ever comment you want to make. Comments are **important** because they help make your code readable. "
   ]
  },
  {
   "cell_type": "code",
   "execution_count": 5,
   "metadata": {},
   "outputs": [
    {
     "name": "stdout",
     "output_type": "stream",
     "text": [
      "1\n",
      "is this a 8???\n"
     ]
    }
   ],
   "source": [
    "test = 2^3 # This is what you would do in excel (matlab too)\n",
    "print(test)\n",
    "print(\"is this a 8???\")"
   ]
  },
  {
   "cell_type": "code",
   "execution_count": 6,
   "metadata": {},
   "outputs": [
    {
     "name": "stdout",
     "output_type": "stream",
     "text": [
      "8\n",
      "is this a 8???\n"
     ]
    }
   ],
   "source": [
    "test = 2**3 # Now what happens...\n",
    "print(test)\n",
    "print(\"is this a 8???\")"
   ]
  },
  {
   "cell_type": "code",
   "execution_count": 7,
   "metadata": {},
   "outputs": [
    {
     "ename": "NameError",
     "evalue": "name 'log' is not defined",
     "output_type": "error",
     "traceback": [
      "\u001b[0;31m------------------------------------------------------------\u001b[0m",
      "\u001b[0;31mNameError\u001b[0m                  Traceback (most recent call last)",
      "Cell \u001b[0;32mIn[7], line 1\u001b[0m\n\u001b[0;32m----> 1\u001b[0m test \u001b[38;5;241m=\u001b[39m \u001b[43mlog\u001b[49m(\u001b[38;5;241m3\u001b[39m) \u001b[38;5;66;03m# what do you think will happen here...log is not defined\u001b[39;00m\n\u001b[1;32m      2\u001b[0m               \u001b[38;5;66;03m# log is not a built-in function who will have a different color in notebook\u001b[39;00m\n\u001b[1;32m      3\u001b[0m \u001b[38;5;28mprint\u001b[39m(test)\n",
      "\u001b[0;31mNameError\u001b[0m: name 'log' is not defined"
     ]
    }
   ],
   "source": [
    "test = log(3) # what do you think will happen here...log is not defined\n",
    "              # log is not a built-in function who will have a different color in notebook\n",
    "print(test)"
   ]
  },
  {
   "cell_type": "markdown",
   "metadata": {},
   "source": [
    "Note how the compute just stopped. It did not compute. Remember, python and the computer are DUMB! You gave it an instruction that it did not know what to do, so it stopped, and did not proceed. A couple of points about this:\n",
    "\n",
    "* The top to bottom (within a code cell), simply following instructions/commands nature of a program.\n",
    "\n",
    "* When you run this, note how (after some stuff) tells you where the problem is: Line 1, then this name log is not defined."
   ]
  },
  {
   "cell_type": "code",
   "execution_count": null,
   "metadata": {},
   "outputs": [],
   "source": [
    "test = 4**2 # Now what happens...\n",
    "print(test)\n",
    "print(\"is this a 8???\")"
   ]
  },
  {
   "cell_type": "markdown",
   "metadata": {},
   "source": [
    "**Assignment** Above I've been assigning variables... but let's look at this more closely..."
   ]
  },
  {
   "cell_type": "code",
   "execution_count": 13,
   "metadata": {},
   "outputs": [],
   "source": [
    "x = 2 "
   ]
  },
  {
   "cell_type": "markdown",
   "metadata": {},
   "source": [
    "Nice so the thing on the left is the \"variable\" named \"x\", then the thing on the right is the value that this variable is assigned... then the = sign is the operator that assighns that value."
   ]
  },
  {
   "cell_type": "code",
   "execution_count": 14,
   "metadata": {},
   "outputs": [
    {
     "name": "stdout",
     "output_type": "stream",
     "text": [
      "2\n",
      "3\n"
     ]
    }
   ],
   "source": [
    "print(x)\n",
    "\n",
    "y = 3 # lets do it again...\n",
    "print(y)"
   ]
  },
  {
   "cell_type": "markdown",
   "metadata": {},
   "source": [
    "Now we are getting somewhere, we take these variables and perform an operation. Notice that (like excel) the value assigned to z will change as we change the values assigned to x or y. But there is a difference with excel...what is it?"
   ]
  },
  {
   "cell_type": "code",
   "execution_count": 15,
   "metadata": {},
   "outputs": [
    {
     "name": "stdout",
     "output_type": "stream",
     "text": [
      "0.6666666666666666\n"
     ]
    }
   ],
   "source": [
    "z = x/y \n",
    "\n",
    "print(z)"
   ]
  },
  {
   "cell_type": "markdown",
   "metadata": {},
   "source": [
    "Here is a place where you might want to figure out what variables there are within the enviornment. For example, what is `x`  (the type and size ignore for now) and then the value...how do you do this, with the `whos` command, which will provide this information. "
   ]
  },
  {
   "cell_type": "code",
   "execution_count": 16,
   "metadata": {},
   "outputs": [
    {
     "name": "stdout",
     "output_type": "stream",
     "text": [
      "Variable   Type     Data/Info\n",
      "-----------------------------\n",
      "test       int      16\n",
      "x          int      2\n",
      "x_val      int      2\n",
      "y          int      3\n",
      "z          float    0.6666666666666666\n"
     ]
    }
   ],
   "source": [
    "whos"
   ]
  },
  {
   "cell_type": "markdown",
   "metadata": {},
   "source": [
    "This is a nice feature in that it is a way for you to always understand what variables are in your environment at any point in time, their type, etc. \n",
    "\n",
    "---\n",
    "\n",
    "### Time to practice\n",
    "\n",
    "We will do this alot. Here is the deal: Below are a set of excercises, take a couple of minutes and (i) create a code cell below each one and (ii) try and answer them as best as possible. If we don't cover them all inclass, try and attempt them later as you review."
   ]
  },
  {
   "cell_type": "markdown",
   "metadata": {},
   "source": [
    "**Exercise.** Type `w = 7` in a cell.  In the same cell, next line below, type `w = w + 2`. In the next line below type `w` (so we can see the output). What does this code do?  Why is this not a violation of basic mathematics?"
   ]
  },
  {
   "cell_type": "code",
   "execution_count": 17,
   "metadata": {},
   "outputs": [
    {
     "data": {
      "text/plain": [
       "9"
      ]
     },
     "execution_count": 17,
     "metadata": {},
     "output_type": "execute_result"
    }
   ],
   "source": [
    "w = 7\n",
    "w = w+2\n",
    "w"
   ]
  },
  {
   "cell_type": "markdown",
   "metadata": {},
   "source": [
    "**Exercise.** In another code cell type `w = w + 2` and then `w` below it (again so we can see the output). Evaluate this cell once. Do it again. Do it again. What is going on here?"
   ]
  },
  {
   "cell_type": "code",
   "execution_count": 21,
   "metadata": {},
   "outputs": [
    {
     "data": {
      "text/plain": [
       "17"
      ]
     },
     "execution_count": 21,
     "metadata": {},
     "output_type": "execute_result"
    }
   ],
   "source": [
    "w = w + 2\n",
    "w"
   ]
  },
  {
   "cell_type": "code",
   "execution_count": 22,
   "metadata": {},
   "outputs": [
    {
     "data": {
      "text/plain": [
       "19"
      ]
     },
     "execution_count": 22,
     "metadata": {},
     "output_type": "execute_result"
    }
   ],
   "source": [
    "w += 2\n",
    "w"
   ]
  },
  {
   "cell_type": "markdown",
   "metadata": {},
   "source": [
    "**Exercise.**  Suppose we borrow 200 for one year at an interest rate of 5 percent.  If we pay interest plus principal at the end of the year, what is our total payment?  Compute this using the variables `principal = 200` and `i = 0.05`."
   ]
  },
  {
   "cell_type": "code",
   "execution_count": 24,
   "metadata": {},
   "outputs": [
    {
     "data": {
      "text/plain": [
       "210.0"
      ]
     },
     "execution_count": 24,
     "metadata": {},
     "output_type": "execute_result"
    }
   ],
   "source": [
    "principal = 200\n",
    "i = 0.05\n",
    "principal = principal * (1 + i)\n",
    "principal"
   ]
  },
  {
   "cell_type": "markdown",
   "metadata": {},
   "source": [
    "**Exercise.** Real GDP in the US (the total value of things produced) was 15.58 trillion in 2013 and 15.96 trillion in 2014.  What was the growth rate?  Express it as an annual percentage."
   ]
  },
  {
   "cell_type": "code",
   "execution_count": 27,
   "metadata": {},
   "outputs": [
    {
     "name": "stdout",
     "output_type": "stream",
     "text": [
      "2.4390243902439073 %\n"
     ]
    }
   ],
   "source": [
    "t13 = 15.58\n",
    "t14 = 15.96\n",
    "gr = (t14 - t13)/t13*100\n",
    "print(gr, '%')"
   ]
  },
  {
   "cell_type": "markdown",
   "metadata": {},
   "source": [
    "**Exercise (challenging).**  Suppose we have two variables, `x` and `y`.  How would you switch their values, so that `x` takes on `y`'s value and `y` takes on `x`'s?"
   ]
  },
  {
   "cell_type": "code",
   "execution_count": 29,
   "metadata": {},
   "outputs": [
    {
     "name": "stdout",
     "output_type": "stream",
     "text": [
      "2 1\n"
     ]
    }
   ],
   "source": [
    "x = 1\n",
    "y = 2\n",
    "a = x\n",
    "b = y\n",
    "x = b\n",
    "y = a\n",
    "print(x,y)"
   ]
  },
  {
   "cell_type": "code",
   "execution_count": 32,
   "metadata": {},
   "outputs": [],
   "source": [
    "a, b, c = 1, 2, 3"
   ]
  },
  {
   "cell_type": "code",
   "execution_count": null,
   "metadata": {},
   "outputs": [],
   "source": []
  },
  {
   "cell_type": "code",
   "execution_count": 31,
   "metadata": {},
   "outputs": [
    {
     "name": "stdout",
     "output_type": "stream",
     "text": [
      "2 1\n"
     ]
    }
   ],
   "source": [
    "x = 1\n",
    "y = 2\n",
    "y,x = x,y\n",
    "print(x, y)"
   ]
  },
  {
   "cell_type": "code",
   "execution_count": 36,
   "metadata": {},
   "outputs": [
    {
     "name": "stdout",
     "output_type": "stream",
     "text": [
      "2 1\n"
     ]
    }
   ],
   "source": [
    "x = 1\n",
    "y = 2\n",
    "x = x + y\n",
    "y = x - y\n",
    "x = x - y\n",
    "print(x, y)"
   ]
  },
  {
   "cell_type": "code",
   "execution_count": 34,
   "metadata": {},
   "outputs": [
    {
     "name": "stdout",
     "output_type": "stream",
     "text": [
      "2 1\n"
     ]
    }
   ],
   "source": [
    "x = 1\n",
    "y = 2\n",
    "temp = x\n",
    "x = y\n",
    "y = temp\n",
    "print(x,y)"
   ]
  },
  {
   "cell_type": "markdown",
   "metadata": {},
   "source": [
    "**Exercise (challenging).**  Type `x = 6` in a cell.  We've reassigned `x` so that its value is now 6, not 2. If we type and submit `z`, we see\n",
    "\n",
    "```\n",
    "In [10]: z\n",
    "Out[10]: .6666666666\n",
    "```\n",
    "\n",
    "But wait, if `z` is supposed to be `x/y`, and `x` now equals 6, then shouldn't `z` be 2? What do you think is going on?"
   ]
  },
  {
   "cell_type": "code",
   "execution_count": 38,
   "metadata": {},
   "outputs": [],
   "source": [
    "x = 2"
   ]
  },
  {
   "cell_type": "code",
   "execution_count": 41,
   "metadata": {},
   "outputs": [
    {
     "name": "stdout",
     "output_type": "stream",
     "text": [
      "2\n",
      "0.6666666666666666\n"
     ]
    }
   ],
   "source": [
    "print(x) #explain my code\n",
    "print(z)"
   ]
  },
  {
   "cell_type": "markdown",
   "metadata": {},
   "source": [
    "---\n",
    "## Printing (and help)\n",
    "\n",
    "It's important in the sense that if we don't tell the computer to report or \"print\" the results, then generally we will not see it. \n",
    "\n",
    "First, let's practice using the help command by `print?`"
   ]
  },
  {
   "cell_type": "code",
   "execution_count": 42,
   "metadata": {},
   "outputs": [
    {
     "data": {
      "text/plain": [
       "\u001b[0;31mSignature:\u001b[0m \u001b[0mprint\u001b[0m\u001b[0;34m(\u001b[0m\u001b[0;34m*\u001b[0m\u001b[0margs\u001b[0m\u001b[0;34m,\u001b[0m \u001b[0msep\u001b[0m\u001b[0;34m=\u001b[0m\u001b[0;34m' '\u001b[0m\u001b[0;34m,\u001b[0m \u001b[0mend\u001b[0m\u001b[0;34m=\u001b[0m\u001b[0;34m'\\n'\u001b[0m\u001b[0;34m,\u001b[0m \u001b[0mfile\u001b[0m\u001b[0;34m=\u001b[0m\u001b[0;32mNone\u001b[0m\u001b[0;34m,\u001b[0m \u001b[0mflush\u001b[0m\u001b[0;34m=\u001b[0m\u001b[0;32mFalse\u001b[0m\u001b[0;34m)\u001b[0m\u001b[0;34m\u001b[0m\u001b[0;34m\u001b[0m\u001b[0m\n",
       "\u001b[0;31mDocstring:\u001b[0m\n",
       "Prints the values to a stream, or to sys.stdout by default.\n",
       "\n",
       "sep\n",
       "  string inserted between values, default a space.\n",
       "end\n",
       "  string appended after the last value, default a newline.\n",
       "file\n",
       "  a file-like object (stream); defaults to the current sys.stdout.\n",
       "flush\n",
       "  whether to forcibly flush the stream.\n",
       "\u001b[0;31mType:\u001b[0m      builtin_function_or_method"
      ]
     },
     "metadata": {},
     "output_type": "display_data"
    }
   ],
   "source": [
    "print?"
   ]
  },
  {
   "cell_type": "markdown",
   "metadata": {},
   "source": [
    "So a window should pop up showing things that (i) values must be seperated by commas, when it is printed how to seperate them, what to do at the end, etc."
   ]
  },
  {
   "cell_type": "code",
   "execution_count": 44,
   "metadata": {},
   "outputs": [
    {
     "name": "stdout",
     "output_type": "stream",
     "text": [
      "2---1\n"
     ]
    }
   ],
   "source": [
    "print(x, y, sep='---')"
   ]
  },
  {
   "cell_type": "code",
   "execution_count": 45,
   "metadata": {
    "scrolled": true
   },
   "outputs": [
    {
     "name": "stdout",
     "output_type": "stream",
     "text": [
      "2 1\n",
      " \n",
      " \n",
      " \n",
      " \n"
     ]
    }
   ],
   "source": [
    "print(x,y, end='\\n \\n \\n \\n \\n')"
   ]
  },
  {
   "cell_type": "code",
   "execution_count": 46,
   "metadata": {},
   "outputs": [
    {
     "name": "stdout",
     "output_type": "stream",
     "text": [
      "The variable x is 2\n"
     ]
    }
   ],
   "source": [
    "#f-strings: Used to inject variables into a print statement\n",
    "print(f\"The variable x is {x}\")"
   ]
  },
  {
   "cell_type": "code",
   "execution_count": null,
   "metadata": {},
   "outputs": [],
   "source": []
  },
  {
   "cell_type": "markdown",
   "metadata": {},
   "source": [
    "Notice all the white space, this is what the character `\\n` does, it stands for a return or jump to the next line. "
   ]
  },
  {
   "cell_type": "markdown",
   "metadata": {},
   "source": [
    "---\n",
    "## Strings"
   ]
  },
  {
   "cell_type": "markdown",
   "metadata": {},
   "source": [
    "This is where I think python is VERY POWERFULL...lots of enviorenments can do numerical calculations, plotting well, but handling and manipulating strings is less common...\n",
    "\n",
    "* **Lesson 1:** A string is a collection of characters between quotation marks\n",
    "\n",
    "* **Lesson 2:** A string may look like a number, but it is not. '12'/3 this is not going to work as \"12\" is a string, python does not see it as a number, and then it is being asked to perform a numerical computation on something that is not a number, thus an error message."
   ]
  },
  {
   "cell_type": "code",
   "execution_count": 47,
   "metadata": {},
   "outputs": [
    {
     "name": "stdout",
     "output_type": "stream",
     "text": [
      "something\n"
     ]
    }
   ],
   "source": [
    "a = \"some\"\n",
    "b = \"thing\"\n",
    "c = a + b # this is awesome....so natural and intuitive... suppose you tried\n",
    "            # this in excel?? what would happen.\n",
    "print(c)"
   ]
  },
  {
   "cell_type": "code",
   "execution_count": 48,
   "metadata": {},
   "outputs": [
    {
     "name": "stdout",
     "output_type": "stream",
     "text": [
      "the value of z is 0.6666666666666666\n",
      "the value of z is 0.6666666666666666\n"
     ]
    }
   ],
   "source": [
    "# Back to print, we can do some cool things with this...\n",
    "print(\"the value of z is\", z)\n",
    "\n",
    "# or even do something like this\n",
    "message = \"the value of z is\"\n",
    "print(message, z)\n"
   ]
  },
  {
   "cell_type": "code",
   "execution_count": 49,
   "metadata": {},
   "outputs": [
    {
     "ename": "SyntaxError",
     "evalue": "unterminated string literal (detected at line 1) (295113755.py, line 1)",
     "output_type": "error",
     "traceback": [
      "\u001b[0;36m  Cell \u001b[0;32mIn[49], line 1\u001b[0;36m\u001b[0m\n\u001b[0;31m    print('Lenny's favorite thing to do is play with his bone.')\u001b[0m\n\u001b[0m                                                              ^\u001b[0m\n\u001b[0;31mSyntaxError\u001b[0m\u001b[0;31m:\u001b[0m unterminated string literal (detected at line 1)\n"
     ]
    }
   ],
   "source": [
    "print('Lenny's favorite thing to do is play with his bone.')"
   ]
  },
  {
   "cell_type": "markdown",
   "metadata": {},
   "source": [
    "---\n",
    "### Time to practice\n",
    "\n",
    "Below are a set of excercises, take a couple of minutes and (i) create a code cell below each one and (ii) try and answer them as best as possible. If we don't cover them all inclass, try and attempt them later as you review."
   ]
  },
  {
   "cell_type": "markdown",
   "metadata": {},
   "source": [
    "**Exercise.** What happens if we run the statement: 'Chase'/2? Why?"
   ]
  },
  {
   "cell_type": "code",
   "execution_count": 50,
   "metadata": {},
   "outputs": [
    {
     "ename": "TypeError",
     "evalue": "unsupported operand type(s) for /: 'str' and 'int'",
     "output_type": "error",
     "traceback": [
      "\u001b[0;31m---------------------------------------------------------------------------\u001b[0m",
      "\u001b[0;31mTypeError\u001b[0m                                 Traceback (most recent call last)",
      "Cell \u001b[0;32mIn[50], line 1\u001b[0m\n\u001b[0;32m----> 1\u001b[0m \u001b[38;5;124;43m\"\u001b[39;49m\u001b[38;5;124;43mchase\u001b[39;49m\u001b[38;5;124;43m\"\u001b[39;49m\u001b[38;5;241;43m/\u001b[39;49m\u001b[38;5;241;43m2\u001b[39;49m\n",
      "\u001b[0;31mTypeError\u001b[0m: unsupported operand type(s) for /: 'str' and 'int'"
     ]
    }
   ],
   "source": [
    "\"chase\"/2"
   ]
  },
  {
   "cell_type": "code",
   "execution_count": 51,
   "metadata": {},
   "outputs": [],
   "source": [
    "#strings can't be combined with integers using division"
   ]
  },
  {
   "cell_type": "markdown",
   "metadata": {},
   "source": [
    "**Exercise.** This one's a little harder. Assign your first name as a string to the variable firstname and your last name to the variable lastname.  Use them to construct a new variable equal to your first name, a space, then your last name. Hint: Think about how you would express a space as a string."
   ]
  },
  {
   "cell_type": "code",
   "execution_count": 52,
   "metadata": {},
   "outputs": [
    {
     "name": "stdout",
     "output_type": "stream",
     "text": [
      "Jacob Koehler\n"
     ]
    }
   ],
   "source": [
    "firstname = 'Jacob'\n",
    "lastname = 'Koehler'\n",
    "fullname = firstname + ' ' + lastname\n",
    "#or with f strings\n",
    "fullname = f'{firstname} {lastname}'\n",
    "print(fullname)"
   ]
  },
  {
   "cell_type": "markdown",
   "metadata": {},
   "source": [
    "**Exercise.** Set s = 'string'. What is s + s? 2*s? s*2? What is the logic here?"
   ]
  },
  {
   "cell_type": "code",
   "execution_count": 54,
   "metadata": {},
   "outputs": [
    {
     "name": "stdout",
     "output_type": "stream",
     "text": [
      "stringstring\n",
      "stringstring\n",
      "stringstring\n"
     ]
    }
   ],
   "source": [
    "s = 'string'\n",
    "print(s + s)\n",
    "print(2*s)\n",
    "print(s*2)"
   ]
  },
  {
   "cell_type": "code",
   "execution_count": 55,
   "metadata": {},
   "outputs": [],
   "source": [
    "#addition is concatenating and multiplication is repetition"
   ]
  },
  {
   "cell_type": "markdown",
   "metadata": {},
   "source": [
    "---\n",
    "## Quotation Marks\n",
    "\n",
    "Here is the thing, you'll notice that sometimes I use single quotation, double quotation marks...\n",
    "* First, both are valid ways to define a string. The real issue is my inconsistent use partly this is a problem within the NYU databoot camp team...I actually prefer double.\n",
    "* Second, the fact that both are valid is not an accident, in fact, double quotation marks and even **triple** quotation marks play an important roles. "
   ]
  },
  {
   "cell_type": "code",
   "execution_count": 56,
   "metadata": {},
   "outputs": [
    {
     "name": "stdout",
     "output_type": "stream",
     "text": [
      "string string\n",
      "I don't know what I'm doing\n"
     ]
    }
   ],
   "source": [
    "a = 'string'\n",
    "b = \"string\"\n",
    "print(a,b) # We should see the same thing....\n",
    "\n",
    "# This is one instance where double helps...\n",
    "message = \"I don't know what I'm doing\"\n",
    "print(message)"
   ]
  },
  {
   "cell_type": "markdown",
   "metadata": {},
   "source": [
    "**Note** how in the last line of code I can use the apostrophe. This is the value added of double quotation marks in that it can handle more complicated punctuation within the quoation marks. \n",
    "Now what about this..."
   ]
  },
  {
   "cell_type": "code",
   "execution_count": null,
   "metadata": {},
   "outputs": [],
   "source": [
    "longstring = \"\"\"\n",
    "Four score and seven years ago\n",
    "Our fathers brought forth. \"\"\"\n",
    "\n",
    "print(longstring) "
   ]
  },
  {
   "cell_type": "markdown",
   "metadata": {},
   "source": [
    "Here triple quotation marks allow us to have multiple lines."
   ]
  },
  {
   "cell_type": "markdown",
   "metadata": {},
   "source": [
    "---\n",
    "### Time to practice\n",
    "\n",
    "**Exercise.** In the Four score etc code, replace the triple double quotes with \n",
    "triple single quotes. What happens?"
   ]
  },
  {
   "cell_type": "code",
   "execution_count": null,
   "metadata": {},
   "outputs": [],
   "source": []
  },
  {
   "cell_type": "markdown",
   "metadata": {},
   "source": [
    "**Exercise.** Fix this code:"
   ]
  },
  {
   "cell_type": "code",
   "execution_count": null,
   "metadata": {},
   "outputs": [],
   "source": [
    "bad_string = 'Sarah's code'\n",
    "\n",
    "print(bad_string)"
   ]
  },
  {
   "cell_type": "markdown",
   "metadata": {},
   "source": [
    "**Exercise.** Which of these are strings? Which are not? Edit the markdown cell and type next to each one string, not string.\n",
    "* apple\n",
    "* \"orange\" \n",
    "* 'lemon84'\n",
    "* \"1\" \n",
    "* string \n",
    "* 4 \n",
    "* 15.6 \n",
    "* '32.5'"
   ]
  },
  {
   "cell_type": "markdown",
   "metadata": {},
   "source": [
    "---\n",
    "## Changing types"
   ]
  },
  {
   "cell_type": "markdown",
   "metadata": {},
   "source": [
    "Types matter a lot in python, but sometimes we will want to change the type of a varible. This is something that will come up often in our data work...."
   ]
  },
  {
   "cell_type": "code",
   "execution_count": null,
   "metadata": {},
   "outputs": [],
   "source": [
    "s = '12.34' # This is a string (check it to veryify...)\n",
    "\n",
    "f = float(s) # This builtin function will convert the string to a float\n",
    "\n",
    "print(type(f)) # It should now tells us that f is a float...\n",
    "\n",
    "s = \"12\"\n",
    "\n",
    "i = int(s) # This should convert the string to an integer...what if we did the \n",
    "            # string \"12.34\"??? \n",
    "\n",
    "print(type(i)) # This should be a type integer..."
   ]
  },
  {
   "cell_type": "markdown",
   "metadata": {},
   "source": [
    "Then we can always convert it back...."
   ]
  },
  {
   "cell_type": "code",
   "execution_count": null,
   "metadata": {},
   "outputs": [],
   "source": [
    "s = str(12) # So start with an integer and go to a string...\n",
    "print('s has type', type(s))\n",
    "\n",
    "t = str(12.34) # Or start with a float and go to a string as well\n",
    "print('t has type', type(f))\n"
   ]
  },
  {
   "cell_type": "markdown",
   "metadata": {},
   "source": [
    "**Big picture** This is again a super powerful aspect of python that makes it very applicable for working with data...the ability to go from numbers to strings and back."
   ]
  },
  {
   "cell_type": "code",
   "execution_count": null,
   "metadata": {},
   "outputs": [],
   "source": [
    "# This is cool...start with a string and make it a list by the command list\n",
    "x = 'abc'\n",
    "\n",
    "y = list(x)\n",
    "\n",
    "print(y) # So now y should be a list of a, b, c"
   ]
  },
  {
   "cell_type": "markdown",
   "metadata": {},
   "source": [
    "### Time to practice"
   ]
  },
  {
   "cell_type": "markdown",
   "metadata": {},
   "source": [
    "**Exercise.** What happens if we apply the function float to the string 'some'?"
   ]
  },
  {
   "cell_type": "code",
   "execution_count": 57,
   "metadata": {},
   "outputs": [
    {
     "ename": "ValueError",
     "evalue": "could not convert string to float: 'some'",
     "output_type": "error",
     "traceback": [
      "\u001b[0;31m---------------------------------------------------------------------------\u001b[0m",
      "\u001b[0;31mValueError\u001b[0m                                Traceback (most recent call last)",
      "Cell \u001b[0;32mIn[57], line 1\u001b[0m\n\u001b[0;32m----> 1\u001b[0m \u001b[38;5;28;43mfloat\u001b[39;49m\u001b[43m(\u001b[49m\u001b[38;5;124;43m'\u001b[39;49m\u001b[38;5;124;43msome\u001b[39;49m\u001b[38;5;124;43m'\u001b[39;49m\u001b[43m)\u001b[49m\n",
      "\u001b[0;31mValueError\u001b[0m: could not convert string to float: 'some'"
     ]
    }
   ],
   "source": [
    "float('some')"
   ]
  },
  {
   "cell_type": "markdown",
   "metadata": {},
   "source": [
    "**Exercise.** What is the result of `list(str(int(float('12.34'))))`? \n",
    "Why? Hint: Start in the middle (the string '12.34') and work your way out, \n",
    "one step at a time. This is similar to question 13 and 14 on Code Practice #1. "
   ]
  },
  {
   "cell_type": "code",
   "execution_count": 58,
   "metadata": {},
   "outputs": [],
   "source": [
    "#a list with a string 12.34 as the only element"
   ]
  },
  {
   "cell_type": "markdown",
   "metadata": {},
   "source": [
    "**Exercise.** How would you convert the integer i = 1234 to the \n",
    "list l = ['1', '2', '3', '4']? "
   ]
  },
  {
   "cell_type": "code",
   "execution_count": 60,
   "metadata": {},
   "outputs": [
    {
     "data": {
      "text/plain": [
       "['1', '2', '3', '4']"
      ]
     },
     "execution_count": 60,
     "metadata": {},
     "output_type": "execute_result"
    }
   ],
   "source": [
    "i = 1234\n",
    "i = list(str(i))\n",
    "i"
   ]
  },
  {
   "cell_type": "markdown",
   "metadata": {},
   "source": [
    "**Exercise (challenging).** This one is tricky, but it came up in some work we  were doing. Suppose year is a string containing the year of a particular piece of data; for example, year = '2015'. \n",
    "How would we construct a **string** for the following year?"
   ]
  },
  {
   "cell_type": "code",
   "execution_count": 62,
   "metadata": {},
   "outputs": [
    {
     "name": "stdout",
     "output_type": "stream",
     "text": [
      "2016\n",
      "<class 'str'>\n"
     ]
    }
   ],
   "source": [
    "year = '2015'\n",
    "nextyear = str(int(year) + 1)\n",
    "print(nextyear)\n",
    "print(type(nextyear))"
   ]
  },
  {
   "cell_type": "markdown",
   "metadata": {},
   "source": [
    "---\n",
    "## Programming Errors \n",
    "\n",
    "Fact of life: **you will make errors.** Many errors. The key to programming is (i) not getting discouraged and living with that fact and (ii) learning how to make sense of error messages and **self-correct** those errors. \n",
    "\n",
    "Point (i) is a life skill that takes years to learn. However, we can help you with (ii), below we talk through some very common error messages and how to identify them. "
   ]
  },
  {
   "cell_type": "markdown",
   "metadata": {},
   "source": [
    "### Name Error\n",
    "It happens when we use something not defined, it could be a variable or a function. The associated output is an error message that includes (i) what line the issue is occuring in and (ii) the name that could not be found. Here are two examples:"
   ]
  },
  {
   "cell_type": "code",
   "execution_count": null,
   "metadata": {},
   "outputs": [],
   "source": [
    "# Using not defined variable\n",
    "print(NotDefined)"
   ]
  },
  {
   "cell_type": "code",
   "execution_count": null,
   "metadata": {},
   "outputs": [],
   "source": [
    "# Another situation, here we are \n",
    "# using function that is not defined.\n",
    "log(3) "
   ]
  },
  {
   "cell_type": "markdown",
   "metadata": {},
   "source": [
    "So you see in both of these instances that there is an arrow pointing to the line within each code cell. In the first instance it is pointing to line 2. This is where the issue is. In the second instance, it is pointing to line number 3. \n",
    "\n",
    "And after pointing to the issue, below that is says ``NameError:`` and stuff. In the first instance, it tells us `NotDefined` is well...not defined. In the second instance, its saying the same thing. It just does not know what log is.  "
   ]
  },
  {
   "cell_type": "markdown",
   "metadata": {},
   "source": [
    "### Type Error\n",
    "This one happens all the time too. It happens when an inappropriate operation or function is applied to that specific data type. Here are some examples:"
   ]
  },
  {
   "cell_type": "code",
   "execution_count": null,
   "metadata": {},
   "outputs": [],
   "source": [
    "x = \"2\"\n",
    "y = 2\n",
    "\n",
    "z = x + y"
   ]
  },
  {
   "cell_type": "markdown",
   "metadata": {},
   "source": [
    "Like above, it tells us that line number 4 is the issue, i.e. where we are tying to add \"2\" and 2. And the issue is a type issue, we can't add two different types (in this case a string and an integer)."
   ]
  },
  {
   "cell_type": "markdown",
   "metadata": {},
   "source": [
    "Here is another example relating to tuples. Recall that with a tuple, the data type is immutable. That is it can't be changed. But lets try and change it..."
   ]
  },
  {
   "cell_type": "code",
   "execution_count": null,
   "metadata": {},
   "outputs": [],
   "source": [
    "tuple_error=(2,3)\n",
    "tuple_error[0]=5"
   ]
  },
  {
   "cell_type": "markdown",
   "metadata": {},
   "source": [
    "Here it says, line 2...there is a problem. A ``TypeError`` problem. And what is the specific issue, well the tuple object does not support this kind of operation.\n",
    "\n",
    "**Important** A lot of the problams in interperting the error message lies in deciphering the cryptic messages like \"'tuple' object does not support item assignment\" So how do we do this...**use google** Often the first result will be a question posted to [www.stackoverflow.com](www.stackoverflow.com) which is a place for programers to ask and answer questions. This is a good place to be comfortable with and seek help from. \n",
    "\n",
    "**Excercise:** In the google search area type \"tuple' object does not support item assignment\" What did you find? \n"
   ]
  },
  {
   "cell_type": "markdown",
   "metadata": {},
   "source": [
    "### Invalid Syntax\n",
    "\n",
    "Syntax errors can be detected before your program begins to run. These types of errors are usually typing mistakes (fat fingers), but migth be hard to find out at first. Here we give two examples:"
   ]
  },
  {
   "cell_type": "code",
   "execution_count": null,
   "metadata": {},
   "outputs": [],
   "source": [
    "# Define a simple list and let's call the first one in the list\n",
    "randomlist =[1,8,3,7]\n",
    "randomlist[0]]"
   ]
  },
  {
   "cell_type": "markdown",
   "metadata": {},
   "source": [
    "I know this example may seem easy to identify, but imagine when you write a long code like below, it could be hard. Can you find where is missing?\n"
   ]
  },
  {
   "cell_type": "code",
   "execution_count": null,
   "metadata": {},
   "outputs": [],
   "source": [
    "goal_model_data = pandas.concat([train[['HomeTeam','AwayTeam','HomeGoals']].assign(home=1).rename(\n",
    "                columns={'HomeTeam':'team', 'AwayTeam':'opponent','HomeGoals':'goals'}),\n",
    "               train[['AwayTeam','HomeTeam','AwayGoals']].assign(home=0).rename(\n",
    "                columns={'AwayTeam':'team', 'HomeTeam':'opponent','AwayGoals':'goals'}])"
   ]
  },
  {
   "cell_type": "code",
   "execution_count": null,
   "metadata": {},
   "outputs": [],
   "source": [
    "# Or when we define a string\n",
    "bad_string = 'code\""
   ]
  },
  {
   "cell_type": "markdown",
   "metadata": {},
   "source": [
    "### Key Error\n",
    "Python raises a *KeyError* whenever a `dict()` object is requested (using the format `a = adict[key]`) and the key is not in the dictionary."
   ]
  },
  {
   "cell_type": "code",
   "execution_count": null,
   "metadata": {},
   "outputs": [],
   "source": [
    "names = {'Dave': 'Backus', 'Chase': 'Coleman', 'Spencer': 'Lyon', 'Glenn': 'Okun'}\n",
    "names['David']"
   ]
  },
  {
   "cell_type": "markdown",
   "metadata": {},
   "source": [
    "### \"No Idea\" Errors\n",
    "\n",
    "These are errors that you have no idea what is going on. A couple of tips:\n",
    "- **Ask a friend.** While the movie vision of a coder is some guy in a hoody in a dark room by himself, this is not how we work. Working together, as a team, is an important aspect of data analysis and coding in general. So if you have a problem, ask for help. Explain to him/her what you were trying to do (often just this process helps solve the issue) and then show them the output.\n",
    "\n",
    "- **Google fu** Use google. Chances are you are not the first one to have this problem. Just cut and past the error message into google and track down what other people have to say about it.\n"
   ]
  },
  {
   "cell_type": "markdown",
   "metadata": {},
   "source": [
    "---\n",
    "## Summary"
   ]
  },
  {
   "cell_type": "markdown",
   "metadata": {},
   "source": [
    "**Congratulations!** First, it's amazing that you have made it this far. Reflect on what you knew before working through this notebook. Now reflect on what you can do...AMAZING!!! Let us summarize some key things that we covered.\n",
    "\n",
    "\n",
    "* **Assignments and variables**: We say we assign what's on the right to the thing on the left: x = 17.4 assigns the number 17.4 to the variable x.\n",
    "* **Data types and structures**:\n",
    "    * Strings. Strings are collections of characters in quotes: 'this is a string'.\n",
    "    * Lists. Lists are collections of things in square brackets: [1, 'help', 3.14159].\n",
    "    * Number types: integers vs. floats. Examples of integers include -1, 2, 5, 42. They cannot involve fractions. Floats use decimal points: 12.34. Thus 2 is an integer and 2.0 is a float.\n",
    "    * Dictionary. Dictionaries are collections of unordered things in `{}` with key-value pairs: names = {'Dave': 'Backus', 'Chase': 'Coleman'}.\n",
    "\n",
    "    \n",
    "* **Built-in functions**: \n",
    "    * The `print()` function. Use `print('something', x)` to display the `value(s)` of the `object(s)` in parentheses.\n",
    "    * The `type()` function. The command `type(x)` tells us what kind of object x is. Past examples include integers, floating point numbers, strings, and lists.\n",
    "    \n",
    "* **Type conversions**: \n",
    "    * Use `str()` to convert a float or integer to a string. \n",
    "    * Use `float()` or `int()` to convert a string into a float or integer. \n",
    "    * Use `list()` to convert a string to a list of its characters.\n",
    "\n",
    "* **Error message types**:\n",
    "    * NameError. Usually happens when using something not defined which could be variable or methods.\n",
    "    * TypeError. Raise when an operation or function is applied to an object of inappropriate type. For example, tuples have no `\"=\"` methods while number no `len`.   \n",
    "    * Invalid syntax. Syntax errors can be detected before your program begins to run. So first thing to do is to check typos, parentheses, etc.\n",
    "    * KeyError. It happens when you refer a key not previously defined in the dictionary. \n",
    "\n",
    "### Useful Tricks and Programming Tools\n",
    "\n",
    "* **Comments.** Use the hash symbol # to add comments to your code and explain what you’re doing. Don't underestimate the importance of creating well commented code. Here are some thoughts on this...\n",
    "    - https://blogs.msdn.microsoft.com/oldnewthing/20070406-00/?p=27343\n",
    "    - https://blog.codinghorror.com/when-understanding-means-rewriting/\n",
    "\n",
    "\n",
    "* **Help.** We can get help for a function or method foo by typing `foo?` in the IPython console or foo in the Object explorer. Try each of them with the `type()` function to remind yourself how this works.\n",
    "\n",
    "* **Error Messages** Look at the message, (i) read where the issue is and (ii) track down what the message is associated with that line. Or ask a friend!"
   ]
  }
 ],
 "metadata": {
  "anaconda-cloud": {},
  "hide_input": false,
  "kernelspec": {
   "display_name": "Python 3 (ipykernel)",
   "language": "python",
   "name": "python3"
  },
  "language_info": {
   "codemirror_mode": {
    "name": "ipython",
    "version": 3
   },
   "file_extension": ".py",
   "mimetype": "text/x-python",
   "name": "python",
   "nbconvert_exporter": "python",
   "pygments_lexer": "ipython3",
   "version": "3.12.0"
  }
 },
 "nbformat": 4,
 "nbformat_minor": 4
}