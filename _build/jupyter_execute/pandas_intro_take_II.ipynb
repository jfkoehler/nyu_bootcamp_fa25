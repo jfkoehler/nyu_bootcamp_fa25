{
 "cells": [
  {
   "cell_type": "markdown",
   "id": "a0b364c6-84fb-401f-b570-6a2c1e007617",
   "metadata": {},
   "source": [
    "# Introduction to `pandas`"
   ]
  },
  {
   "cell_type": "code",
   "execution_count": 1,
   "id": "f888814f-f2a6-40f6-ade1-bb86d633c3c0",
   "metadata": {},
   "outputs": [],
   "source": [
    "#import and alias\n"
   ]
  },
  {
   "cell_type": "markdown",
   "id": "bb1a1f2b-db8f-48a0-8267-861f17b9e3d9",
   "metadata": {},
   "source": [
    "## Creating a `DataFrame`"
   ]
  },
  {
   "cell_type": "code",
   "execution_count": 2,
   "id": "c0f6146c-2a01-4eb1-8d2c-483bd72ef5e9",
   "metadata": {},
   "outputs": [],
   "source": [
    "#create DataFrame from dictionary\n",
    "data = {'CPI': [10, 11, 9],\n",
    "        'GDP': [8, 3, 7],\n",
    "        'Year': [2020, 2021, 2022]}\n"
   ]
  },
  {
   "cell_type": "markdown",
   "id": "b73f8057-d9ad-4da8-9799-05f100f6270a",
   "metadata": {},
   "source": [
    "Head over to our course repository [here](https://github.com/jfkoehler/nyu_bootcamp_fa25/blob/main/data/Ames_Housing_Sales.csv) and download the `.csv` file for the Ames Housing data.  Upload this to colab or your local jupyter lab instance."
   ]
  },
  {
   "cell_type": "code",
   "execution_count": null,
   "id": "fc81ff58-6daf-496e-8162-3c9292cd99c8",
   "metadata": {},
   "outputs": [],
   "source": [
    "#create DataFrame from a local .csv file\n"
   ]
  },
  {
   "cell_type": "code",
   "execution_count": 3,
   "id": "68013528-d44c-4d82-9019-0efcf86b0f1d",
   "metadata": {},
   "outputs": [],
   "source": [
    "#look at the first five rows\n"
   ]
  },
  {
   "cell_type": "code",
   "execution_count": 5,
   "id": "255bb3ae-9c94-4f44-8c26-e4480e73edbc",
   "metadata": {},
   "outputs": [],
   "source": [
    "#check out the shape of the data\n"
   ]
  },
  {
   "cell_type": "code",
   "execution_count": 6,
   "id": "03f63cc6-739b-43d6-ba0d-c277c29141da",
   "metadata": {},
   "outputs": [],
   "source": [
    "#what are the column names?\n"
   ]
  },
  {
   "cell_type": "code",
   "execution_count": 7,
   "id": "8a48d1aa-0642-44fd-aaae-221a88f2d71b",
   "metadata": {},
   "outputs": [],
   "source": [
    "#what are the row names?\n"
   ]
  },
  {
   "cell_type": "code",
   "execution_count": 8,
   "id": "b4842224-8626-4c2f-ab6b-e4bd0e322c1e",
   "metadata": {},
   "outputs": [],
   "source": [
    "#all above in one place with .info()\n"
   ]
  },
  {
   "cell_type": "markdown",
   "id": "50744ee4-21df-4c32-b21b-21a6868e3f29",
   "metadata": {},
   "source": [
    "Turns out we can even just use the url to a `.csv` file as the filepath to create a `DataFrame` with.  In our repo, let's look at the \"raw\" data by selecting the [raw](https://raw.githubusercontent.com/jfkoehler/nyu_bootcamp_fa25/refs/heads/main/data/Ames_Housing_Sales.csv) button for the Ames data."
   ]
  },
  {
   "cell_type": "code",
   "execution_count": 9,
   "id": "1d080b62-24e1-446e-b01c-88eaa67e1d16",
   "metadata": {},
   "outputs": [],
   "source": [
    "#url to .csv raw data\n",
    "url = ''"
   ]
  },
  {
   "cell_type": "code",
   "execution_count": 10,
   "id": "d8904ab6-7161-4bcb-abe0-8b6508fcec8c",
   "metadata": {},
   "outputs": [],
   "source": [
    "#use read_csv to read url to dataframe\n"
   ]
  },
  {
   "cell_type": "code",
   "execution_count": 11,
   "id": "0860c328-adaa-48f4-8c77-ec565c4d769a",
   "metadata": {},
   "outputs": [],
   "source": [
    "#look at first 10 rows\n"
   ]
  },
  {
   "cell_type": "code",
   "execution_count": 12,
   "id": "e5629ed6-972b-4c53-bdf5-04bee8f8c6f8",
   "metadata": {},
   "outputs": [],
   "source": [
    "#look over info\n"
   ]
  },
  {
   "cell_type": "markdown",
   "id": "e1b1d864-46d7-4dc0-9e3c-74941fcf807f",
   "metadata": {},
   "source": [
    "## Selecting Rows and Columns\n",
    "\n",
    "Both the rows and columns can be referred to based on their index *or* their names.  For index selection, we will use the `.iloc` function and for names we use the `.loc` method. "
   ]
  },
  {
   "cell_type": "code",
   "execution_count": 13,
   "id": "47be89a4-373a-4561-965b-1e3b61bd04e7",
   "metadata": {},
   "outputs": [],
   "source": [
    "#select one column\n"
   ]
  },
  {
   "cell_type": "code",
   "execution_count": 14,
   "id": "a96ca258-a5b0-4085-a2c1-e658ab45d5a8",
   "metadata": {},
   "outputs": [],
   "source": [
    "#select two columns\n"
   ]
  },
  {
   "cell_type": "code",
   "execution_count": 15,
   "id": "c5c31ba4-d628-49e9-a264-6401a8e5c2d3",
   "metadata": {},
   "outputs": [],
   "source": [
    "#select first row\n"
   ]
  },
  {
   "cell_type": "code",
   "execution_count": 16,
   "id": "29b58538-f2cc-47d5-8aea-f172bc2a6e34",
   "metadata": {},
   "outputs": [],
   "source": [
    "#select first three rows and three columns\n"
   ]
  },
  {
   "cell_type": "code",
   "execution_count": 17,
   "id": "40371e52-38ae-4d05-a68d-d9b803d6884e",
   "metadata": {},
   "outputs": [],
   "source": [
    "#select the Alley column\n"
   ]
  },
  {
   "cell_type": "code",
   "execution_count": 18,
   "id": "175c3548-6237-4d6f-9918-9ce03b9bbf3a",
   "metadata": {},
   "outputs": [],
   "source": [
    "#select the Alley and BsmtCond columns\n"
   ]
  },
  {
   "cell_type": "markdown",
   "id": "6e484559-2577-4efc-9eb1-fabc4e23c2cd",
   "metadata": {},
   "source": [
    "### Selections based on conditions\n",
    "\n",
    "Often we are interested in subsets of the data that satisfy specific criteria.  We can use the `.loc` method, the more dictionary like syntax, as well as the new `.query` method in pandas.\n",
    "\n",
    "```python\n",
    "df[conditional statement]\n",
    "#or\n",
    "df.loc[conditional statement]\n",
    "#or\n",
    "df.query(conditional statement)\n",
    "```"
   ]
  },
  {
   "cell_type": "code",
   "execution_count": 19,
   "id": "3b41d502-7de2-4c76-b3f4-3c6f25832192",
   "metadata": {},
   "outputs": [],
   "source": [
    "#houses with a 3 car garage -- GarageCars feature\n"
   ]
  },
  {
   "cell_type": "code",
   "execution_count": 25,
   "id": "a5f03af4-bce8-4597-8733-9f01ad230a6f",
   "metadata": {},
   "outputs": [],
   "source": [
    "#using dictionary syntax\n"
   ]
  },
  {
   "cell_type": "code",
   "execution_count": 26,
   "id": "8e0175ad-991b-4558-a7b2-e2ba340e64b5",
   "metadata": {},
   "outputs": [],
   "source": [
    "#using .loc\n"
   ]
  },
  {
   "cell_type": "code",
   "execution_count": 27,
   "id": "9c88685f-a22a-490e-afd8-0848c9a392eb",
   "metadata": {},
   "outputs": [],
   "source": [
    "#using .query\n"
   ]
  },
  {
   "cell_type": "code",
   "execution_count": 28,
   "id": "649b21b8-19ae-49de-93c1-a2c715dff387",
   "metadata": {},
   "outputs": [],
   "source": [
    "#3 car garage and built after the year 2000 (YearBuilt feature)\n"
   ]
  },
  {
   "cell_type": "code",
   "execution_count": 29,
   "id": "a2ce29ec-83e6-4be3-b3d7-72a34eb18a65",
   "metadata": {},
   "outputs": [],
   "source": [
    "#average price of houses with 3 car garage built in 2000's?\n"
   ]
  },
  {
   "cell_type": "markdown",
   "id": "5738ff5e-d2a2-4273-bb9e-aede7503c571",
   "metadata": {},
   "source": [
    "**CHALLENGE**\n",
    "\n",
    "Head back to our repository and create a new `DataFrame` named `health` from the [health insurance charges](https://github.com/jfkoehler/nyu_bootcamp_fa25/blob/main/data/health_insurance_charges.csv) data.  "
   ]
  },
  {
   "cell_type": "markdown",
   "id": "8c256f7d-7ffb-47ac-85e3-ae6cf23e4fcb",
   "metadata": {},
   "source": [
    "1. Did people over 50 have different average costs than those under 50 years of age?"
   ]
  },
  {
   "cell_type": "code",
   "execution_count": null,
   "id": "c4a190a4-9283-4e0d-8c46-46fa7d559726",
   "metadata": {},
   "outputs": [],
   "source": []
  },
  {
   "cell_type": "markdown",
   "id": "d5f56ca8-1071-4b79-81aa-d9692ebea84d",
   "metadata": {},
   "source": [
    "2. What is the average `bmi` of all the male observations?"
   ]
  },
  {
   "cell_type": "code",
   "execution_count": null,
   "id": "3309e95c-0163-443c-aa8f-36a467ff7253",
   "metadata": {},
   "outputs": [],
   "source": []
  },
  {
   "cell_type": "markdown",
   "id": "6ded8d5f-9297-492a-b093-658fe8b761f8",
   "metadata": {},
   "source": [
    "3. Did people in the southeast spend more or less on average than those in the northeast?"
   ]
  },
  {
   "cell_type": "code",
   "execution_count": null,
   "id": "dcc89fad-ffdc-4d6a-a68f-647dbfcbc78a",
   "metadata": {},
   "outputs": [],
   "source": []
  },
  {
   "cell_type": "markdown",
   "id": "e8bca218-0324-494f-8555-84be200efe27",
   "metadata": {},
   "source": [
    "### Sort and Summarize\n",
    "\n",
    "In addition to the `.mean` method, there are a variety of helpful sorting, selecting, and aggregating functions built in to the `DataFrame`.  We explore these below.\n",
    "\n",
    "- `.nlargest`\n",
    "- `.nsmallest`\n",
    "- `.sort_values`\n",
    "- `.value_counts`\n",
    "- `.describe`"
   ]
  },
  {
   "cell_type": "code",
   "execution_count": 30,
   "id": "f6b275bd-4275-48b9-879d-cc598f88725d",
   "metadata": {},
   "outputs": [],
   "source": [
    "#sort the data\n"
   ]
  },
  {
   "cell_type": "code",
   "execution_count": 31,
   "id": "5a4b9270-1444-4cf2-b09e-e3492f93ca25",
   "metadata": {},
   "outputs": [],
   "source": [
    "#find the 10 largest bmi\n"
   ]
  },
  {
   "cell_type": "code",
   "execution_count": 32,
   "id": "85f1d825-1fa0-4ecd-8ef0-f474d7c5c920",
   "metadata": {},
   "outputs": [],
   "source": [
    "#how many entries for each region?\n"
   ]
  },
  {
   "cell_type": "code",
   "execution_count": 33,
   "id": "91da661f-423f-4437-b33b-44a96accc834",
   "metadata": {},
   "outputs": [],
   "source": [
    "#describe the numeric data\n"
   ]
  },
  {
   "cell_type": "code",
   "execution_count": 34,
   "id": "3cf86b73-cb14-41df-9413-ebae90c966fa",
   "metadata": {},
   "outputs": [],
   "source": [
    "#describe all the data\n"
   ]
  },
  {
   "cell_type": "markdown",
   "id": "bbfd75df-4585-4c4d-a4d5-b9a004f759d6",
   "metadata": {},
   "source": [
    "**CHALLENGE**\n",
    "\n",
    "With your neighbor, find another `.csv` file (from our repo [here](https://github.com/jfkoehler/nyu_bootcamp_fa25/tree/main/data) or from googling around) and create a DataFrame from this.  Check that the data is formatted as you expect and if there are any datatype or missing value issues.  Use three other pandas methods (feel free to consult the cheat sheet [here](https://pandas.pydata.org/Pandas_Cheat_Sheet.pdf)) to explore your data."
   ]
  },
  {
   "cell_type": "code",
   "execution_count": 35,
   "id": "3aa7971c-19bb-402a-b429-1d8dd3079942",
   "metadata": {},
   "outputs": [],
   "source": [
    "#load in your data\n"
   ]
  },
  {
   "cell_type": "code",
   "execution_count": 36,
   "id": "33bac31e-c2c1-421f-bd8b-1093bb9ce7c6",
   "metadata": {},
   "outputs": [],
   "source": [
    "#look at the info\n"
   ]
  },
  {
   "cell_type": "code",
   "execution_count": 37,
   "id": "5a4bb471-3d29-4ed6-9906-ae1c7acbf500",
   "metadata": {},
   "outputs": [],
   "source": [
    "#first few rows of data\n"
   ]
  },
  {
   "cell_type": "code",
   "execution_count": 38,
   "id": "a35c61a2-f905-4b91-8312-ec5d5c6ad298",
   "metadata": {},
   "outputs": [],
   "source": [
    "#method 1\n"
   ]
  },
  {
   "cell_type": "code",
   "execution_count": 39,
   "id": "d9d1bcef-b38b-4d3f-87b9-e261f8383708",
   "metadata": {},
   "outputs": [],
   "source": [
    "#method 2\n"
   ]
  },
  {
   "cell_type": "code",
   "execution_count": 40,
   "id": "fb2100f1-f231-4b99-b0ba-4e28bf3e576d",
   "metadata": {},
   "outputs": [],
   "source": [
    "#method 3\n"
   ]
  },
  {
   "cell_type": "markdown",
   "id": "39dccc25-ac95-4f59-ba6e-f76c25fb3e65",
   "metadata": {},
   "source": [
    "**CHALLENGE**\n",
    "\n",
    "With your neighbor, identify an industry or topic of interest.  Try to find a structured data source for this online.  Were you able to find a `.csv` file format or something different?  What are some challenges you feel exist about turning this data into a `DataFrame`?"
   ]
  },
  {
   "cell_type": "code",
   "execution_count": null,
   "id": "d29f73a9-b11c-4ea6-becd-f704955402fb",
   "metadata": {},
   "outputs": [],
   "source": []
  },
  {
   "cell_type": "code",
   "execution_count": null,
   "id": "3058216f-061a-4348-ba88-6c7fff3d1884",
   "metadata": {},
   "outputs": [],
   "source": []
  },
  {
   "cell_type": "code",
   "execution_count": null,
   "id": "d9fa0834-78cd-40ac-89ee-be6b1db61abe",
   "metadata": {},
   "outputs": [],
   "source": []
  }
 ],
 "metadata": {
  "kernelspec": {
   "display_name": "Python 3 (ipykernel)",
   "language": "python",
   "name": "python3"
  },
  "language_info": {
   "codemirror_mode": {
    "name": "ipython",
    "version": 3
   },
   "file_extension": ".py",
   "mimetype": "text/x-python",
   "name": "python",
   "nbconvert_exporter": "python",
   "pygments_lexer": "ipython3",
   "version": "3.12.0"
  }
 },
 "nbformat": 4,
 "nbformat_minor": 5
}