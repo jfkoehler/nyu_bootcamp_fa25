{
 "cells": [
  {
   "cell_type": "markdown",
   "id": "2b12780a-be51-4b69-ade9-1c1fa1de28af",
   "metadata": {},
   "source": [
    "# Data Structures and Introduction to Pandas\n",
    "\n",
    "**OBJECTIVES**\n",
    "\n",
    "- Understand the similarities and differences of `list`, `tuple`, and `dict` in Python.\n",
    "- Use methods on collections \n",
    "- Iterate over collections and control flow with conditional statements\n",
    "- Connect data structures to `NumPy` arrays\n",
    "- Build a basic `DataFrame`\n",
    "- Read in a `csv` file as a `DataFrame`"
   ]
  },
  {
   "cell_type": "markdown",
   "id": "a4595fef-670d-4af3-b947-dd8106b2d235",
   "metadata": {},
   "source": [
    "## Data Structures in Python\n",
    "\n",
    "A data structure can be thought of as a way to represent data in Python.  We will explore three basic forms, and then introduce external libraries `NumPy` and `Pandas` that simplify and extend the base libraries capabilities."
   ]
  },
  {
   "cell_type": "markdown",
   "id": "17be8e8f-9b22-479a-b6d0-e1b09937205c",
   "metadata": {},
   "source": [
    "### Data and Lists\n",
    "\n",
    "|    |   some stock |\n",
    "|---:|-------------:|\n",
    "|  0 |      102.824 |\n",
    "|  1 |      202.062 |\n",
    "|  2 |      297.471 |\n",
    "|  3 |      401.106 |\n",
    "|  4 |      503.444 |\n",
    "|  5 |      607.566 |\n",
    "|  6 |      708.208 |\n",
    "|  7 |      809.986 |\n",
    "|  8 |      908.093 |\n",
    "|  9 |     1007.35  |"
   ]
  },
  {
   "cell_type": "code",
   "execution_count": 10,
   "id": "09f4600b-2be6-4f4f-83fd-50b6b371ba31",
   "metadata": {},
   "outputs": [],
   "source": [
    "stock = [102.82449238,  202.06238561,  297.4710266 ,  401.10612769,\n",
    "        503.44394471,  607.56592588,  708.20812766,  809.98616016,\n",
    "        908.09339539, 1007.34582461]"
   ]
  },
  {
   "cell_type": "code",
   "execution_count": 11,
   "id": "d89a0ecd-e013-44ec-a5c1-1c83920ab984",
   "metadata": {},
   "outputs": [
    {
     "data": {
      "text/plain": [
       "list"
      ]
     },
     "execution_count": 11,
     "metadata": {},
     "output_type": "execute_result"
    }
   ],
   "source": [
    "type(stock)"
   ]
  },
  {
   "cell_type": "code",
   "execution_count": 31,
   "id": "afbf7df8-32ff-4569-8f21-36fde7242de1",
   "metadata": {},
   "outputs": [
    {
     "data": {
      "text/plain": [
       "9"
      ]
     },
     "execution_count": 31,
     "metadata": {},
     "output_type": "execute_result"
    }
   ],
   "source": [
    "len(stock)"
   ]
  },
  {
   "cell_type": "code",
   "execution_count": 12,
   "id": "baf9e3e1-cf08-421e-bd76-ca83fa154309",
   "metadata": {},
   "outputs": [],
   "source": [
    "#first day\n"
   ]
  },
  {
   "cell_type": "code",
   "execution_count": 13,
   "id": "f0de8288-796d-4c3f-8e3a-9c3f286d2416",
   "metadata": {},
   "outputs": [],
   "source": [
    "#second day\n"
   ]
  },
  {
   "cell_type": "code",
   "execution_count": 14,
   "id": "0a4182ce-4c09-43ba-a659-6376264146eb",
   "metadata": {},
   "outputs": [],
   "source": [
    "#last day\n"
   ]
  },
  {
   "cell_type": "code",
   "execution_count": 15,
   "id": "0ba92bce-e14c-497c-bafe-9c94172f9ca3",
   "metadata": {},
   "outputs": [],
   "source": [
    "#every other day\n"
   ]
  },
  {
   "cell_type": "code",
   "execution_count": 16,
   "id": "ad22756a-7954-4e8f-9852-ac5fc73f6544",
   "metadata": {},
   "outputs": [],
   "source": [
    "#third through sixth day\n"
   ]
  },
  {
   "cell_type": "markdown",
   "id": "55402fd4-7f17-4107-99df-a1455c7cd31f",
   "metadata": {},
   "source": [
    "#### `list` methods\n",
    "\n",
    "A method is a function unique to each \"type\" of object in Python.  In general, we access these methods with the syntax:\n",
    "\n",
    "```python\n",
    "object.method()\n",
    "```\n",
    "\n",
    "See [docs](https://docs.python.org/3/tutorial/datastructures.html) for full list of methods."
   ]
  },
  {
   "cell_type": "code",
   "execution_count": null,
   "id": "35be2ca6-ca33-4f33-bd7b-abc9e4025256",
   "metadata": {},
   "outputs": [],
   "source": [
    "#see all methods -- .tab locally; just wait a second in colab\n",
    "stock."
   ]
  },
  {
   "cell_type": "code",
   "execution_count": 17,
   "id": "e3ded248-10bd-4daf-9be2-9a71412396f5",
   "metadata": {},
   "outputs": [
    {
     "data": {
      "text/plain": [
       "2"
      ]
     },
     "execution_count": 17,
     "metadata": {},
     "output_type": "execute_result"
    }
   ],
   "source": [
    "fruits = ['orange', 'apple', 'pear', 'banana', 'kiwi', 'apple', 'banana']"
   ]
  },
  {
   "cell_type": "code",
   "execution_count": 19,
   "id": "88005b46-e738-4193-8ff9-3367f6328b6e",
   "metadata": {},
   "outputs": [
    {
     "data": {
      "text/plain": [
       "\u001b[0;31mSignature:\u001b[0m \u001b[0mfruits\u001b[0m\u001b[0;34m.\u001b[0m\u001b[0mcount\u001b[0m\u001b[0;34m(\u001b[0m\u001b[0mvalue\u001b[0m\u001b[0;34m,\u001b[0m \u001b[0;34m/\u001b[0m\u001b[0;34m)\u001b[0m\u001b[0;34m\u001b[0m\u001b[0;34m\u001b[0m\u001b[0m\n",
       "\u001b[0;31mDocstring:\u001b[0m Return number of occurrences of value.\n",
       "\u001b[0;31mType:\u001b[0m      builtin_function_or_method"
      ]
     },
     "metadata": {},
     "output_type": "display_data"
    }
   ],
   "source": [
    "fruits.count?"
   ]
  },
  {
   "cell_type": "code",
   "execution_count": 20,
   "id": "ad941de5-a8cc-423e-90c4-592346f906c1",
   "metadata": {},
   "outputs": [
    {
     "data": {
      "text/plain": [
       "2"
      ]
     },
     "execution_count": 20,
     "metadata": {},
     "output_type": "execute_result"
    }
   ],
   "source": [
    "#using the count method\n",
    "fruits.count('apple')"
   ]
  },
  {
   "cell_type": "code",
   "execution_count": 21,
   "id": "314b6fc5-1b4e-4a89-a753-5994d798826d",
   "metadata": {},
   "outputs": [
    {
     "data": {
      "text/plain": [
       "0"
      ]
     },
     "execution_count": 21,
     "metadata": {},
     "output_type": "execute_result"
    }
   ],
   "source": [
    "fruits.count('tangerine')"
   ]
  },
  {
   "cell_type": "markdown",
   "id": "4f2407f2-5599-42d1-a8d8-344b10e736df",
   "metadata": {},
   "source": [
    "**CHALLENGE**\n",
    "\n",
    "1. How does the `.index()` method for a list work?  Demonstrate its use with the list `fruits`."
   ]
  },
  {
   "cell_type": "code",
   "execution_count": null,
   "id": "1cd0edfa-c62a-40cf-a1c9-090534811042",
   "metadata": {},
   "outputs": [],
   "source": []
  },
  {
   "cell_type": "markdown",
   "id": "3e344f2c-44f3-44b0-af6e-c3cea13695d7",
   "metadata": {},
   "source": [
    "2. How does the `.append()` method for a list work?  Demonstrate its use by appending a new stock price that is 112% of the last price in the list."
   ]
  },
  {
   "cell_type": "code",
   "execution_count": null,
   "id": "8b69201c-f2c8-45e3-afdd-e6cfab3f0379",
   "metadata": {},
   "outputs": [],
   "source": []
  },
  {
   "cell_type": "markdown",
   "id": "2c932ee8-e4b9-4277-bb24-f66c7713f577",
   "metadata": {},
   "source": [
    "3. What happens when you try to add two lists?  Multiply by a constant (i.e. `stocks * 2`)?"
   ]
  },
  {
   "cell_type": "code",
   "execution_count": null,
   "id": "e3aea6a5-cbf3-4796-9c0b-43dfe4dd2486",
   "metadata": {},
   "outputs": [],
   "source": []
  },
  {
   "cell_type": "markdown",
   "id": "8e9a9bc7-6f51-41f9-9a2a-24d85b9cb743",
   "metadata": {},
   "source": [
    "### `tuple`\n",
    "\n",
    "Similar to lists in that they are ordered collections of mixed datatypes.  The primary difference is a `list` is mutable whereas a `tuple` is not."
   ]
  },
  {
   "cell_type": "code",
   "execution_count": 22,
   "id": "baee7f08-3e1b-4948-9ec3-feae972f3f2f",
   "metadata": {},
   "outputs": [],
   "source": [
    "stock_tuple = (102.82449238,  202.06238561,  297.4710266 ,  401.10612769,\n",
    "        503.44394471,  607.56592588,  708.20812766,  809.98616016,\n",
    "        908.09339539, 1007.34582461)"
   ]
  },
  {
   "cell_type": "code",
   "execution_count": 27,
   "id": "9c9139c3-fa7c-4944-8dcf-8cb3fa99d705",
   "metadata": {},
   "outputs": [
    {
     "data": {
      "text/plain": [
       "tuple"
      ]
     },
     "execution_count": 27,
     "metadata": {},
     "output_type": "execute_result"
    }
   ],
   "source": [
    "type(stock_tuple)"
   ]
  },
  {
   "cell_type": "code",
   "execution_count": 23,
   "id": "16235f2e-2e93-477e-ae5a-724b7cada92e",
   "metadata": {},
   "outputs": [
    {
     "data": {
      "text/plain": [
       "102.82449238"
      ]
     },
     "execution_count": 23,
     "metadata": {},
     "output_type": "execute_result"
    }
   ],
   "source": [
    "stock_tuple[0]"
   ]
  },
  {
   "cell_type": "code",
   "execution_count": 26,
   "id": "5b64b213-8055-41e1-8386-dc09afc8eb1d",
   "metadata": {},
   "outputs": [
    {
     "data": {
      "text/plain": [
       "(202.06238561,\n",
       " 297.4710266,\n",
       " 401.10612769,\n",
       " 503.44394471,\n",
       " 607.56592588,\n",
       " 708.20812766)"
      ]
     },
     "execution_count": 26,
     "metadata": {},
     "output_type": "execute_result"
    }
   ],
   "source": [
    "stock_tuple[1:7]"
   ]
  },
  {
   "cell_type": "markdown",
   "id": "d2faa4fe-a1e4-4381-95df-d1c5034f0752",
   "metadata": {},
   "source": [
    "#### `tuple` methods\n",
    "\n",
    "Much more limited than the `list`."
   ]
  },
  {
   "cell_type": "code",
   "execution_count": null,
   "id": "376857d7-0b12-464a-8005-f15fa54b0852",
   "metadata": {},
   "outputs": [],
   "source": [
    "stock_tuple."
   ]
  },
  {
   "cell_type": "code",
   "execution_count": 32,
   "id": "3e85b024-3c6c-470b-a1e0-fde6d853a201",
   "metadata": {},
   "outputs": [
    {
     "data": {
      "text/plain": [
       "[202.06238561, 297.4710266, 401.10612769, 503.44394471]"
      ]
     },
     "execution_count": 32,
     "metadata": {},
     "output_type": "execute_result"
    }
   ],
   "source": [
    "stock[:4]"
   ]
  },
  {
   "cell_type": "code",
   "execution_count": 33,
   "id": "ddc027a1-b2b7-4264-8cfe-c9b3462e1eaa",
   "metadata": {},
   "outputs": [],
   "source": [
    "#delete first element of list\n",
    "del(stock[0])"
   ]
  },
  {
   "cell_type": "code",
   "execution_count": 34,
   "id": "43d240c8-c45d-49d7-865c-b0f5d6d9b44b",
   "metadata": {},
   "outputs": [
    {
     "name": "stdout",
     "output_type": "stream",
     "text": [
      "[297.4710266, 401.10612769, 503.44394471, 607.56592588, 708.20812766, 809.98616016, 908.09339539, 1007.34582461]\n"
     ]
    }
   ],
   "source": [
    "print(stock)"
   ]
  },
  {
   "cell_type": "code",
   "execution_count": 35,
   "id": "c0bfc336-b19b-4669-8021-cff68f217aec",
   "metadata": {},
   "outputs": [
    {
     "name": "stdout",
     "output_type": "stream",
     "text": [
      "8\n"
     ]
    }
   ],
   "source": [
    "print(len(stock))"
   ]
  },
  {
   "cell_type": "code",
   "execution_count": 36,
   "id": "0d8ac841-3428-4844-aad5-f8b6152cc718",
   "metadata": {},
   "outputs": [
    {
     "ename": "TypeError",
     "evalue": "'tuple' object doesn't support item deletion",
     "output_type": "error",
     "traceback": [
      "\u001b[0;31m---------------------------------------------------------------------------\u001b[0m",
      "\u001b[0;31mTypeError\u001b[0m                                 Traceback (most recent call last)",
      "Cell \u001b[0;32mIn[36], line 1\u001b[0m\n\u001b[0;32m----> 1\u001b[0m \u001b[38;5;28;01mdel\u001b[39;00m(\u001b[43mstock_tuple\u001b[49m\u001b[43m[\u001b[49m\u001b[38;5;241;43m0\u001b[39;49m\u001b[43m]\u001b[49m)\n",
      "\u001b[0;31mTypeError\u001b[0m: 'tuple' object doesn't support item deletion"
     ]
    }
   ],
   "source": [
    "del(stock_tuple[0])"
   ]
  },
  {
   "cell_type": "markdown",
   "id": "9657faf8-e115-4b76-9abe-4cbc3e09394b",
   "metadata": {},
   "source": [
    "### `dict` \n",
    "\n",
    "Dictionaries differ from lists and tuples in that they are not ordered and instead contain `key` and `value` pairs that are used to identify different elements of the collection.\n",
    "\n",
    "|    |   Year | Country       |   Spending_USD |   Life_Expectancy |\n",
    "|---:|-------:|:--------------|---------------:|------------------:|\n",
    "|  0 |   1970 | Germany       |        252.311 |              70.6 |\n",
    "|  1 |   1970 | France        |        192.143 |              72.2 |\n",
    "|  2 |   1970 | Great Britain |        123.993 |              71.9 |\n",
    "|  3 |   1970 | Japan         |        150.437 |              72   |\n",
    "|  4 |   1970 | USA           |        326.961 |              70.9 |"
   ]
  },
  {
   "cell_type": "code",
   "execution_count": 45,
   "id": "a3b7f116-14f3-43bf-a419-16d3f9d8d15e",
   "metadata": {},
   "outputs": [],
   "source": [
    "germany = {'year': 1970, 'country': 'Germany', 'Spending': 252.311, 'Life_Expectancy': 70.6}"
   ]
  },
  {
   "cell_type": "code",
   "execution_count": 46,
   "id": "1b05fdf9-f67e-46dc-940e-704086760683",
   "metadata": {},
   "outputs": [
    {
     "data": {
      "text/plain": [
       "dict"
      ]
     },
     "execution_count": 46,
     "metadata": {},
     "output_type": "execute_result"
    }
   ],
   "source": [
    "type(germany)"
   ]
  },
  {
   "cell_type": "code",
   "execution_count": 47,
   "id": "18ca470b-4178-4aba-af03-519355499be4",
   "metadata": {},
   "outputs": [],
   "source": [
    "#access the year\n"
   ]
  },
  {
   "cell_type": "code",
   "execution_count": 49,
   "id": "0b2339a1-6cbc-4727-9717-ff9e76d9cbf3",
   "metadata": {},
   "outputs": [],
   "source": [
    "#access the life expectancy\n"
   ]
  },
  {
   "cell_type": "markdown",
   "id": "c8c1cd8d-7c5c-411a-803b-b860b5f0c447",
   "metadata": {},
   "source": [
    "#### `dict` methods\n",
    "\n",
    "Often, we use a dictionary to represent multiple data points for multiple columns or features of a dataset."
   ]
  },
  {
   "cell_type": "code",
   "execution_count": 52,
   "id": "0f44b10c-64e2-487d-921c-5f21e7002091",
   "metadata": {},
   "outputs": [],
   "source": [
    "health_exp = {'Year': [1970, 1970, 1970, 1970, 1970],\n",
    " 'Country': ['Germany','France','Great Britain','Japan','USA'],\n",
    " 'Spending_USD': [252.311,192.143,123.993,150.437,326.961],\n",
    " 'Life_Expectancy': [70.6,72.2,71.9,72.0,70.9]}"
   ]
  },
  {
   "cell_type": "code",
   "execution_count": 54,
   "id": "6f0af7ea-9f8f-49fa-9925-af6cedfa1aaf",
   "metadata": {},
   "outputs": [
    {
     "data": {
      "text/plain": [
       "[1970, 1970, 1970, 1970, 1970]"
      ]
     },
     "execution_count": 54,
     "metadata": {},
     "output_type": "execute_result"
    }
   ],
   "source": [
    "#using get to access values\n",
    "health_exp.get('Year')"
   ]
  },
  {
   "cell_type": "code",
   "execution_count": 55,
   "id": "cf79e0a9-d460-4e8d-9361-522b7878d9ca",
   "metadata": {},
   "outputs": [
    {
     "data": {
      "text/plain": [
       "dict_items([('Year', [1970, 1970, 1970, 1970, 1970]), ('Country', ['Germany', 'France', 'Great Britain', 'Japan', 'USA']), ('Spending_USD', [252.311, 192.143, 123.993, 150.437, 326.961]), ('Life_Expectancy', [70.6, 72.2, 71.9, 72.0, 70.9])])"
      ]
     },
     "execution_count": 55,
     "metadata": {},
     "output_type": "execute_result"
    }
   ],
   "source": [
    "#print the key/value pairs\n",
    "health_exp.items()"
   ]
  },
  {
   "cell_type": "code",
   "execution_count": 56,
   "id": "00b95281-56db-4856-95e8-2ac8ceb45fd8",
   "metadata": {},
   "outputs": [
    {
     "data": {
      "text/plain": [
       "dict_keys(['Year', 'Country', 'Spending_USD', 'Life_Expectancy'])"
      ]
     },
     "execution_count": 56,
     "metadata": {},
     "output_type": "execute_result"
    }
   ],
   "source": [
    "#the keys only\n",
    "health_exp.keys()"
   ]
  },
  {
   "cell_type": "markdown",
   "id": "616dc319-caa5-4430-8821-5d20b1411f45",
   "metadata": {},
   "source": [
    "**QUESTION**\n",
    "\n",
    "What are some questions you might ask about this dataset?  How would you find the mean spending and life expectancy?"
   ]
  },
  {
   "cell_type": "code",
   "execution_count": null,
   "id": "b69642f5-cd4e-404d-8566-519b7cde47a9",
   "metadata": {},
   "outputs": [],
   "source": []
  },
  {
   "cell_type": "markdown",
   "id": "7a19425d-9ada-462a-a81d-8b34ea6d3cf7",
   "metadata": {},
   "source": [
    "### conditional statements\n",
    "\n",
    "These are built in comparison methods for both numeric and string datatypes.  "
   ]
  },
  {
   "cell_type": "code",
   "execution_count": 57,
   "id": "ca16c7c4-b7c3-4db4-b662-39f3a5762733",
   "metadata": {},
   "outputs": [
    {
     "data": {
      "text/plain": [
       "True"
      ]
     },
     "execution_count": 57,
     "metadata": {},
     "output_type": "execute_result"
    }
   ],
   "source": [
    "#less than?\n",
    "4 < 8"
   ]
  },
  {
   "cell_type": "code",
   "execution_count": 58,
   "id": "a0e04a10-1f17-4f3a-a2d7-d4da190ea2e8",
   "metadata": {},
   "outputs": [
    {
     "data": {
      "text/plain": [
       "True"
      ]
     },
     "execution_count": 58,
     "metadata": {},
     "output_type": "execute_result"
    }
   ],
   "source": [
    "#greater than or equal to?\n",
    "5 >= 3"
   ]
  },
  {
   "cell_type": "code",
   "execution_count": 64,
   "id": "706f4bf1-3435-4ee7-b4b8-bb6b7e680b05",
   "metadata": {},
   "outputs": [
    {
     "name": "stdout",
     "output_type": "stream",
     "text": [
      "The mean life expectancy is  71.52 years\n"
     ]
    }
   ],
   "source": [
    "mean_life_exp = sum(health_exp['Life_Expectancy'])/len(health_exp['Life_Expectancy'])\n",
    "print(f'The mean life expectancy is {mean_life_exp: .2f} years')"
   ]
  },
  {
   "cell_type": "code",
   "execution_count": 69,
   "id": "d5f39a9f-83ad-4e6a-a89c-8b99e89fb0af",
   "metadata": {},
   "outputs": [
    {
     "data": {
      "text/plain": [
       "[70.6, 72.2, 71.9, 72.0, 70.9]"
      ]
     },
     "execution_count": 69,
     "metadata": {},
     "output_type": "execute_result"
    }
   ],
   "source": [
    "#suppose we want to compare the individual datapoints to the mean\n",
    "health_exp['Life_Expectancy']"
   ]
  },
  {
   "cell_type": "code",
   "execution_count": 70,
   "id": "430caafe-12bb-4b6b-98fd-fa1566672caf",
   "metadata": {},
   "outputs": [
    {
     "ename": "TypeError",
     "evalue": "'<' not supported between instances of 'list' and 'float'",
     "output_type": "error",
     "traceback": [
      "\u001b[0;31m---------------------------------------------------------------------------\u001b[0m",
      "\u001b[0;31mTypeError\u001b[0m                                 Traceback (most recent call last)",
      "Cell \u001b[0;32mIn[70], line 2\u001b[0m\n\u001b[1;32m      1\u001b[0m \u001b[38;5;66;03m#which countries life expectancy is less than average\u001b[39;00m\n\u001b[0;32m----> 2\u001b[0m \u001b[43mhealth_exp\u001b[49m\u001b[43m[\u001b[49m\u001b[38;5;124;43m'\u001b[39;49m\u001b[38;5;124;43mLife_Expectancy\u001b[39;49m\u001b[38;5;124;43m'\u001b[39;49m\u001b[43m]\u001b[49m\u001b[43m \u001b[49m\u001b[38;5;241;43m<\u001b[39;49m\u001b[43m \u001b[49m\u001b[43mmean_life_exp\u001b[49m\n",
      "\u001b[0;31mTypeError\u001b[0m: '<' not supported between instances of 'list' and 'float'"
     ]
    }
   ],
   "source": [
    "#which countries life expectancy is less than average\n",
    "health_exp['Life_Expectancy'] < mean_life_exp"
   ]
  },
  {
   "cell_type": "code",
   "execution_count": 68,
   "id": "7332dcf7-013a-4aea-9209-ecc16be278b5",
   "metadata": {},
   "outputs": [
    {
     "name": "stdout",
     "output_type": "stream",
     "text": [
      "True\n",
      "False\n",
      "False\n"
     ]
    }
   ],
   "source": [
    "#alternatively we can take each at a time\n",
    "print(health_exp['Life_Expectancy'][0] < mean_life_exp)\n",
    "print(health_exp['Life_Expectancy'][1] < mean_life_exp)\n",
    "print(health_exp['Life_Expectancy'][2] < mean_life_exp)"
   ]
  },
  {
   "cell_type": "markdown",
   "id": "2a2b0613-895b-4dd5-9fbf-2d5c7e75f6be",
   "metadata": {},
   "source": [
    "### Iterating over collections\n",
    "\n",
    "The `for` loop allows you to automate stepping through items in any collection.  In general it works as:\n",
    "\n",
    "```python\n",
    "for item in collection:\n",
    "    print(item) #or whatever operation you want to perform on each\n",
    "```"
   ]
  },
  {
   "cell_type": "code",
   "execution_count": 71,
   "id": "773e17ee-5e68-410f-8cf8-d3442b2cd78a",
   "metadata": {},
   "outputs": [
    {
     "name": "stdout",
     "output_type": "stream",
     "text": [
      "70.6\n",
      "72.2\n",
      "71.9\n",
      "72.0\n",
      "70.9\n"
     ]
    }
   ],
   "source": [
    "for country_life_exp in health_exp['Life_Expectancy']:\n",
    "    print(country_life_exp)"
   ]
  },
  {
   "cell_type": "code",
   "execution_count": 72,
   "id": "4126cdf4-ce1e-40c6-8fca-04b9accd8b8c",
   "metadata": {},
   "outputs": [
    {
     "name": "stdout",
     "output_type": "stream",
     "text": [
      "Year\n",
      "Country\n",
      "Spending_USD\n",
      "Life_Expectancy\n"
     ]
    }
   ],
   "source": [
    "#what if you iterate over a dictionary?\n",
    "for entry in health_exp:\n",
    "    print(entry)"
   ]
  },
  {
   "cell_type": "markdown",
   "id": "24ab8d40-f291-4a99-b8bb-7e9accd7a5f0",
   "metadata": {},
   "source": [
    "**CHALLENGE**\n",
    "\n",
    "Adjust the loop above to print the values of the dictionary `health_exp` instead of the keys."
   ]
  },
  {
   "cell_type": "code",
   "execution_count": null,
   "id": "5d45c577-74fb-4b29-adc7-916a7cc57b3b",
   "metadata": {},
   "outputs": [],
   "source": []
  },
  {
   "cell_type": "markdown",
   "id": "3f480905-4660-486d-b756-bb1ab759f367",
   "metadata": {},
   "source": [
    "### Functions\n",
    "\n",
    "Functions can be thought of as our frequent high school mathematics description -- an object that takes an input, performs on operation on the input, and return the result."
   ]
  },
  {
   "cell_type": "code",
   "execution_count": 73,
   "id": "28247552-e4ad-4513-8309-f5f32d720859",
   "metadata": {},
   "outputs": [],
   "source": [
    "#defining a function\n",
    "def f(x):\n",
    "    return x**2"
   ]
  },
  {
   "cell_type": "code",
   "execution_count": 74,
   "id": "c76712c2-75ad-456d-bee4-5e0295816da5",
   "metadata": {},
   "outputs": [
    {
     "data": {
      "text/plain": [
       "9"
      ]
     },
     "execution_count": 74,
     "metadata": {},
     "output_type": "execute_result"
    }
   ],
   "source": [
    "#using the function\n",
    "f(3)"
   ]
  },
  {
   "cell_type": "markdown",
   "id": "d142ec06-4467-4c08-baea-e9c82fb745b3",
   "metadata": {},
   "source": [
    "**CHALLENGE**\n",
    "\n",
    "What does the function below do?  Can you use it on the `health_exp` dataset?"
   ]
  },
  {
   "cell_type": "code",
   "execution_count": 76,
   "id": "1e765e4b-f33a-43e2-b59a-cfdac72f4506",
   "metadata": {},
   "outputs": [],
   "source": [
    "def averager(list_of_numbers):\n",
    "    '''\n",
    "    This function takes in a list and returns\n",
    "    the arithmetic mean of the quantities.\n",
    "    ---------\n",
    "    Keyword arguments:\n",
    "    list_of_numbers: list (List of values to average)\n",
    "    --------\n",
    "    returns:\n",
    "    average: float (mean of list)\n",
    "    --------\n",
    "    Example:\n",
    "    x = [1, 2, 3, 4, 5]\n",
    "    averager(x) --> 3.0\n",
    "    '''\n",
    "    return sum(list_of_numbers)/len(list_of_numbers)\n",
    "    "
   ]
  },
  {
   "cell_type": "code",
   "execution_count": null,
   "id": "ad284f98-f714-4123-8367-486f2ba47d95",
   "metadata": {},
   "outputs": [],
   "source": []
  },
  {
   "cell_type": "markdown",
   "id": "c2d0306c-4523-4df7-b9b0-4a97639401d6",
   "metadata": {},
   "source": [
    "### Shortcomings of basic data structures\n",
    "\n",
    "Should finding the average of a dataset take so much effort?  Suppose you wanted to find the standard deviation of a column, wouldn't it be nice if we had a data structure that had all this built in for us?"
   ]
  },
  {
   "cell_type": "markdown",
   "id": "357ff5fd-04a8-4b76-bfe3-32eda78761d9",
   "metadata": {},
   "source": [
    "#### Python Packages\n",
    "\n",
    "> As a general-purpose programming language, Python is designed to be used in many ways. You can build web sites or industrial robots or a game for your friends to play, and much more, all using the same core technology.\n",
    ">\n",
    "> Python’s flexibility is why the first step in every Python project must be to think about the project’s audience and the corresponding environment where the project will run. It might seem strange to think about packaging before writing code, but this process does wonders for avoiding future headaches. -- [source](https://packaging.python.org/en/latest/overview/)\n"
   ]
  },
  {
   "cell_type": "markdown",
   "id": "fe444f5f-4e80-4118-b251-8b3c3cb80273",
   "metadata": {},
   "source": [
    "Typically, you will install a package and consult its documentation for how to use the package.  When we downloaded Anaconda it came loaded with many of the important libraries for data oriented tasks."
   ]
  },
  {
   "cell_type": "markdown",
   "id": "55c9514f-705c-4550-a511-b813f51e0f60",
   "metadata": {},
   "source": [
    "### `pandas`\n",
    "\n",
    "The `pandas` library will be our workhorse for a data structure.  It is already installed in both Anaconda and Google Colab notebooks.  Before we can use the library, we first import it and alias it."
   ]
  },
  {
   "cell_type": "code",
   "execution_count": 79,
   "id": "7d14b6e4-959d-4b3f-8aec-04d626260a1d",
   "metadata": {},
   "outputs": [],
   "source": [
    "import pandas as pd"
   ]
  },
  {
   "cell_type": "markdown",
   "id": "ebf4592d-ac99-4aea-bce4-4889b34b1026",
   "metadata": {},
   "source": [
    "- The documentation for `pandas` is excellent, and found [here](https://pandas.pydata.org/)\n",
    "- They offer a basic cheat sheet that can be a quick reference as you learn [here](https://pandas.pydata.org/Pandas_Cheat_Sheet.pdf)\n",
    "- In the documentation there are getting started tutorials that could be helpful to explore [here](https://pandas.pydata.org/docs/getting_started/intro_tutorials/index.html)"
   ]
  },
  {
   "cell_type": "markdown",
   "id": "a67354f0-135d-4a1d-845c-fbbfd8785be6",
   "metadata": {},
   "source": [
    "#### `DataFrame` as a data structure"
   ]
  },
  {
   "cell_type": "code",
   "execution_count": 80,
   "id": "865fc11d-fc32-432a-94f0-a3c09862de79",
   "metadata": {},
   "outputs": [],
   "source": [
    "#creating a DataFrame from a dictionary\n",
    "df = pd.DataFrame(health_exp)"
   ]
  },
  {
   "cell_type": "code",
   "execution_count": 81,
   "id": "efcd95a4-ab23-4a71-b3d5-e20395cc102e",
   "metadata": {},
   "outputs": [
    {
     "data": {
      "text/plain": [
       "pandas.core.frame.DataFrame"
      ]
     },
     "execution_count": 81,
     "metadata": {},
     "output_type": "execute_result"
    }
   ],
   "source": [
    "#what kind of thing is this?\n",
    "type(df)"
   ]
  },
  {
   "cell_type": "code",
   "execution_count": 83,
   "id": "ad25d716-a91a-4252-8650-6f9843ec8f53",
   "metadata": {},
   "outputs": [
    {
     "data": {
      "text/html": [
       "<div>\n",
       "<style scoped>\n",
       "    .dataframe tbody tr th:only-of-type {\n",
       "        vertical-align: middle;\n",
       "    }\n",
       "\n",
       "    .dataframe tbody tr th {\n",
       "        vertical-align: top;\n",
       "    }\n",
       "\n",
       "    .dataframe thead th {\n",
       "        text-align: right;\n",
       "    }\n",
       "</style>\n",
       "<table border=\"1\" class=\"dataframe\">\n",
       "  <thead>\n",
       "    <tr style=\"text-align: right;\">\n",
       "      <th></th>\n",
       "      <th>Year</th>\n",
       "      <th>Country</th>\n",
       "      <th>Spending_USD</th>\n",
       "      <th>Life_Expectancy</th>\n",
       "    </tr>\n",
       "  </thead>\n",
       "  <tbody>\n",
       "    <tr>\n",
       "      <th>0</th>\n",
       "      <td>1970</td>\n",
       "      <td>Germany</td>\n",
       "      <td>252.311</td>\n",
       "      <td>70.6</td>\n",
       "    </tr>\n",
       "    <tr>\n",
       "      <th>1</th>\n",
       "      <td>1970</td>\n",
       "      <td>France</td>\n",
       "      <td>192.143</td>\n",
       "      <td>72.2</td>\n",
       "    </tr>\n",
       "    <tr>\n",
       "      <th>2</th>\n",
       "      <td>1970</td>\n",
       "      <td>Great Britain</td>\n",
       "      <td>123.993</td>\n",
       "      <td>71.9</td>\n",
       "    </tr>\n",
       "    <tr>\n",
       "      <th>3</th>\n",
       "      <td>1970</td>\n",
       "      <td>Japan</td>\n",
       "      <td>150.437</td>\n",
       "      <td>72.0</td>\n",
       "    </tr>\n",
       "    <tr>\n",
       "      <th>4</th>\n",
       "      <td>1970</td>\n",
       "      <td>USA</td>\n",
       "      <td>326.961</td>\n",
       "      <td>70.9</td>\n",
       "    </tr>\n",
       "  </tbody>\n",
       "</table>\n",
       "</div>"
      ],
      "text/plain": [
       "   Year        Country  Spending_USD  Life_Expectancy\n",
       "0  1970        Germany       252.311             70.6\n",
       "1  1970         France       192.143             72.2\n",
       "2  1970  Great Britain       123.993             71.9\n",
       "3  1970          Japan       150.437             72.0\n",
       "4  1970            USA       326.961             70.9"
      ]
     },
     "execution_count": 83,
     "metadata": {},
     "output_type": "execute_result"
    }
   ],
   "source": [
    "#take a look at the DataFrame\n",
    "df"
   ]
  },
  {
   "cell_type": "markdown",
   "id": "3db51d67-361c-415d-8b35-0c039168865c",
   "metadata": {},
   "source": [
    "#### `DataFrame` methods and attributes\n",
    "\n",
    "Just like the base library data structures, the `DataFrame` has its own methods and attributes."
   ]
  },
  {
   "cell_type": "code",
   "execution_count": 84,
   "id": "30cd4044-72ed-4553-9dba-15a80478a96c",
   "metadata": {
    "collapsed": true,
    "jupyter": {
     "outputs_hidden": true
    },
    "scrolled": true
   },
   "outputs": [
    {
     "ename": "SyntaxError",
     "evalue": "invalid syntax (3234173642.py, line 2)",
     "output_type": "error",
     "traceback": [
      "\u001b[0;36m  Cell \u001b[0;32mIn[84], line 2\u001b[0;36m\u001b[0m\n\u001b[0;31m    df.\u001b[0m\n\u001b[0m       ^\u001b[0m\n\u001b[0;31mSyntaxError\u001b[0m\u001b[0;31m:\u001b[0m invalid syntax\n"
     ]
    }
   ],
   "source": [
    "#DataFrame methods and properties\n",
    "df."
   ]
  },
  {
   "cell_type": "code",
   "execution_count": 87,
   "id": "04cb714f-109a-481d-8dd7-18c2b7d69a75",
   "metadata": {},
   "outputs": [
    {
     "data": {
      "text/plain": [
       "Year               1970.000\n",
       "Spending_USD        209.169\n",
       "Life_Expectancy      71.520\n",
       "dtype: float64"
      ]
     },
     "execution_count": 87,
     "metadata": {},
     "output_type": "execute_result"
    }
   ],
   "source": [
    "#finding the mean of all numeric columns\n",
    "df.mean(numeric_only=True)"
   ]
  },
  {
   "cell_type": "markdown",
   "id": "e61662a3-06ad-421c-a3bb-9eca0b91067f",
   "metadata": {},
   "source": [
    "**CHALLENGE**\n",
    "\n",
    "1. Determine the standard deviation of the numeric columns?"
   ]
  },
  {
   "cell_type": "code",
   "execution_count": null,
   "id": "3a7784c2-4d98-408c-8a47-b2ced6e2c0ea",
   "metadata": {},
   "outputs": [],
   "source": []
  },
  {
   "cell_type": "markdown",
   "id": "3ac6e17d-f71d-41cd-b68c-4d1663a1a603",
   "metadata": {},
   "source": [
    "### Creating `DataFrame`'s from files\n",
    "\n",
    "The pandas function `pd.read_csv` allows us to read in an external `.csv` file and create a `DataFrame`."
   ]
  },
  {
   "cell_type": "code",
   "execution_count": 88,
   "id": "b5ef248b-7bd2-4e79-aa80-665c1da121c9",
   "metadata": {},
   "outputs": [],
   "source": [
    "#create a csv file\n",
    "df.to_csv('health_exp.csv')"
   ]
  },
  {
   "cell_type": "code",
   "execution_count": 89,
   "id": "212aa310-e4b4-4212-85fd-ccd346af6f8c",
   "metadata": {},
   "outputs": [
    {
     "data": {
      "text/html": [
       "<div>\n",
       "<style scoped>\n",
       "    .dataframe tbody tr th:only-of-type {\n",
       "        vertical-align: middle;\n",
       "    }\n",
       "\n",
       "    .dataframe tbody tr th {\n",
       "        vertical-align: top;\n",
       "    }\n",
       "\n",
       "    .dataframe thead th {\n",
       "        text-align: right;\n",
       "    }\n",
       "</style>\n",
       "<table border=\"1\" class=\"dataframe\">\n",
       "  <thead>\n",
       "    <tr style=\"text-align: right;\">\n",
       "      <th></th>\n",
       "      <th>Unnamed: 0</th>\n",
       "      <th>Year</th>\n",
       "      <th>Country</th>\n",
       "      <th>Spending_USD</th>\n",
       "      <th>Life_Expectancy</th>\n",
       "    </tr>\n",
       "  </thead>\n",
       "  <tbody>\n",
       "    <tr>\n",
       "      <th>0</th>\n",
       "      <td>0</td>\n",
       "      <td>1970</td>\n",
       "      <td>Germany</td>\n",
       "      <td>252.311</td>\n",
       "      <td>70.6</td>\n",
       "    </tr>\n",
       "    <tr>\n",
       "      <th>1</th>\n",
       "      <td>1</td>\n",
       "      <td>1970</td>\n",
       "      <td>France</td>\n",
       "      <td>192.143</td>\n",
       "      <td>72.2</td>\n",
       "    </tr>\n",
       "    <tr>\n",
       "      <th>2</th>\n",
       "      <td>2</td>\n",
       "      <td>1970</td>\n",
       "      <td>Great Britain</td>\n",
       "      <td>123.993</td>\n",
       "      <td>71.9</td>\n",
       "    </tr>\n",
       "    <tr>\n",
       "      <th>3</th>\n",
       "      <td>3</td>\n",
       "      <td>1970</td>\n",
       "      <td>Japan</td>\n",
       "      <td>150.437</td>\n",
       "      <td>72.0</td>\n",
       "    </tr>\n",
       "    <tr>\n",
       "      <th>4</th>\n",
       "      <td>4</td>\n",
       "      <td>1970</td>\n",
       "      <td>USA</td>\n",
       "      <td>326.961</td>\n",
       "      <td>70.9</td>\n",
       "    </tr>\n",
       "  </tbody>\n",
       "</table>\n",
       "</div>"
      ],
      "text/plain": [
       "   Unnamed: 0  Year        Country  Spending_USD  Life_Expectancy\n",
       "0           0  1970        Germany       252.311             70.6\n",
       "1           1  1970         France       192.143             72.2\n",
       "2           2  1970  Great Britain       123.993             71.9\n",
       "3           3  1970          Japan       150.437             72.0\n",
       "4           4  1970            USA       326.961             70.9"
      ]
     },
     "execution_count": 89,
     "metadata": {},
     "output_type": "execute_result"
    }
   ],
   "source": [
    "#read the csv file back in as a new object\n",
    "health_df = pd.read_csv('health_exp.csv')\n",
    "health_df"
   ]
  },
  {
   "cell_type": "code",
   "execution_count": 90,
   "id": "77e9a047-17cc-4a59-862a-61d6b81b3d78",
   "metadata": {},
   "outputs": [
    {
     "data": {
      "text/html": [
       "<div>\n",
       "<style scoped>\n",
       "    .dataframe tbody tr th:only-of-type {\n",
       "        vertical-align: middle;\n",
       "    }\n",
       "\n",
       "    .dataframe tbody tr th {\n",
       "        vertical-align: top;\n",
       "    }\n",
       "\n",
       "    .dataframe thead th {\n",
       "        text-align: right;\n",
       "    }\n",
       "</style>\n",
       "<table border=\"1\" class=\"dataframe\">\n",
       "  <thead>\n",
       "    <tr style=\"text-align: right;\">\n",
       "      <th></th>\n",
       "      <th>Year</th>\n",
       "      <th>Country</th>\n",
       "      <th>Spending_USD</th>\n",
       "      <th>Life_Expectancy</th>\n",
       "    </tr>\n",
       "  </thead>\n",
       "  <tbody>\n",
       "    <tr>\n",
       "      <th>0</th>\n",
       "      <td>1970</td>\n",
       "      <td>Germany</td>\n",
       "      <td>252.311</td>\n",
       "      <td>70.6</td>\n",
       "    </tr>\n",
       "    <tr>\n",
       "      <th>1</th>\n",
       "      <td>1970</td>\n",
       "      <td>France</td>\n",
       "      <td>192.143</td>\n",
       "      <td>72.2</td>\n",
       "    </tr>\n",
       "    <tr>\n",
       "      <th>2</th>\n",
       "      <td>1970</td>\n",
       "      <td>Great Britain</td>\n",
       "      <td>123.993</td>\n",
       "      <td>71.9</td>\n",
       "    </tr>\n",
       "    <tr>\n",
       "      <th>3</th>\n",
       "      <td>1970</td>\n",
       "      <td>Japan</td>\n",
       "      <td>150.437</td>\n",
       "      <td>72.0</td>\n",
       "    </tr>\n",
       "    <tr>\n",
       "      <th>4</th>\n",
       "      <td>1970</td>\n",
       "      <td>USA</td>\n",
       "      <td>326.961</td>\n",
       "      <td>70.9</td>\n",
       "    </tr>\n",
       "  </tbody>\n",
       "</table>\n",
       "</div>"
      ],
      "text/plain": [
       "   Year        Country  Spending_USD  Life_Expectancy\n",
       "0  1970        Germany       252.311             70.6\n",
       "1  1970         France       192.143             72.2\n",
       "2  1970  Great Britain       123.993             71.9\n",
       "3  1970          Japan       150.437             72.0\n",
       "4  1970            USA       326.961             70.9"
      ]
     },
     "execution_count": 90,
     "metadata": {},
     "output_type": "execute_result"
    }
   ],
   "source": [
    "#the index was included as a column in the csv file\n",
    "#we can specify this column as the index instead of creating\n",
    "#a new index column\n",
    "health_df = pd.read_csv('health_exp.csv', index_col=0)\n",
    "health_df"
   ]
  },
  {
   "cell_type": "markdown",
   "id": "21f0cc54-f704-493b-954c-ed6d6e2f294f",
   "metadata": {},
   "source": [
    "**CHALLENGE**\n",
    "\n",
    "1. Find a dataset in `.csv` format with a quick google search.  Download the file and read it in as a `DataFrame`. Show your `DataFrame` to your neighbor and rejoice. "
   ]
  },
  {
   "cell_type": "code",
   "execution_count": null,
   "id": "78a384b7-d2df-4b88-9644-41875ad72492",
   "metadata": {},
   "outputs": [],
   "source": []
  }
 ],
 "metadata": {
  "kernelspec": {
   "display_name": "Python 3 (ipykernel)",
   "language": "python",
   "name": "python3"
  },
  "language_info": {
   "codemirror_mode": {
    "name": "ipython",
    "version": 3
   },
   "file_extension": ".py",
   "mimetype": "text/x-python",
   "name": "python",
   "nbconvert_exporter": "python",
   "pygments_lexer": "ipython3",
   "version": "3.12.0"
  }
 },
 "nbformat": 4,
 "nbformat_minor": 5
}
